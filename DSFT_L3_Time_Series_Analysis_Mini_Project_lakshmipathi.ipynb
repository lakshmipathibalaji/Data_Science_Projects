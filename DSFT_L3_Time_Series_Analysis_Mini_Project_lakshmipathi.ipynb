{
 "cells": [
  {
   "cell_type": "markdown",
   "id": "a55777d5",
   "metadata": {},
   "source": [
    "## PRODUCER PRICE INDEX TIMER SERIES ANALYSIS PROJECT"
   ]
  },
  {
   "cell_type": "markdown",
   "id": "062bbee9",
   "metadata": {},
   "source": [
    "### DATA EXPLORATION AND PREPROCESSING"
   ]
  },
  {
   "cell_type": "code",
   "execution_count": 1,
   "id": "957baa91",
   "metadata": {},
   "outputs": [],
   "source": [
    "# importing libraries\n",
    "import numpy as np\n",
    "import pandas as pd\n",
    "import matplotlib.pyplot as plt\n",
    "import seaborn as sns\n",
    "from statsmodels.tsa.stattools import adfuller\n",
    "from statsmodels.tsa.seasonal import seasonal_decompose\n",
    "from pandas.plotting import autocorrelation_plot\n",
    "from statsmodels.graphics.tsaplots import plot_acf, plot_pacf\n",
    "from statsmodels.tsa.api import ExponentialSmoothing\n",
    "import statsmodels.api as sm\n",
    "from sklearn.metrics import mean_squared_error\n",
    "from statsmodels.tsa.arima.model import ARIMA\n",
    "from statsmodels.tsa.statespace.sarimax import SARIMAX\n",
    "import warnings\n",
    "warnings.filterwarnings('ignore')"
   ]
  },
  {
   "cell_type": "code",
   "execution_count": 2,
   "id": "78d52458",
   "metadata": {},
   "outputs": [
    {
     "data": {
      "text/html": [
       "<div>\n",
       "<style scoped>\n",
       "    .dataframe tbody tr th:only-of-type {\n",
       "        vertical-align: middle;\n",
       "    }\n",
       "\n",
       "    .dataframe tbody tr th {\n",
       "        vertical-align: top;\n",
       "    }\n",
       "\n",
       "    .dataframe thead th {\n",
       "        text-align: right;\n",
       "    }\n",
       "</style>\n",
       "<table border=\"1\" class=\"dataframe\">\n",
       "  <thead>\n",
       "    <tr style=\"text-align: right;\">\n",
       "      <th></th>\n",
       "      <th>yearqrt</th>\n",
       "      <th>m3</th>\n",
       "      <th>ppi</th>\n",
       "      <th>cpi</th>\n",
       "      <th>gdp</th>\n",
       "      <th>m1nsa</th>\n",
       "      <th>ddnsa</th>\n",
       "      <th>t</th>\n",
       "      <th>lnppi</th>\n",
       "      <th>dppi</th>\n",
       "      <th>dlnppi</th>\n",
       "      <th>lppi</th>\n",
       "      <th>trend</th>\n",
       "    </tr>\n",
       "  </thead>\n",
       "  <tbody>\n",
       "    <tr>\n",
       "      <th>0</th>\n",
       "      <td>1960-01-01</td>\n",
       "      <td>692.00000</td>\n",
       "      <td>25.400000</td>\n",
       "      <td>19.280001</td>\n",
       "      <td>2391.0000</td>\n",
       "      <td>140.53000</td>\n",
       "      <td>111.67</td>\n",
       "      <td>1960-04-01</td>\n",
       "      <td>3.234749</td>\n",
       "      <td>NaN</td>\n",
       "      <td>NaN</td>\n",
       "      <td>NaN</td>\n",
       "      <td>1</td>\n",
       "    </tr>\n",
       "    <tr>\n",
       "      <th>1</th>\n",
       "      <td>1960-04-01</td>\n",
       "      <td>701.59998</td>\n",
       "      <td>25.440001</td>\n",
       "      <td>19.400000</td>\n",
       "      <td>2379.2000</td>\n",
       "      <td>138.42999</td>\n",
       "      <td>109.47</td>\n",
       "      <td>1960-07-01</td>\n",
       "      <td>3.236323</td>\n",
       "      <td>0.040001</td>\n",
       "      <td>0.001574</td>\n",
       "      <td>25.400000</td>\n",
       "      <td>2</td>\n",
       "    </tr>\n",
       "    <tr>\n",
       "      <th>2</th>\n",
       "      <td>1960-07-01</td>\n",
       "      <td>709.50000</td>\n",
       "      <td>25.370001</td>\n",
       "      <td>19.450001</td>\n",
       "      <td>2383.6001</td>\n",
       "      <td>139.60001</td>\n",
       "      <td>110.33</td>\n",
       "      <td>1960-10-01</td>\n",
       "      <td>3.233567</td>\n",
       "      <td>-0.070000</td>\n",
       "      <td>-0.002755</td>\n",
       "      <td>25.440001</td>\n",
       "      <td>3</td>\n",
       "    </tr>\n",
       "    <tr>\n",
       "      <th>3</th>\n",
       "      <td>1960-10-01</td>\n",
       "      <td>722.09998</td>\n",
       "      <td>25.400000</td>\n",
       "      <td>19.559999</td>\n",
       "      <td>2352.8999</td>\n",
       "      <td>142.67999</td>\n",
       "      <td>113.23</td>\n",
       "      <td>1961-01-01</td>\n",
       "      <td>3.234749</td>\n",
       "      <td>0.029999</td>\n",
       "      <td>0.001182</td>\n",
       "      <td>25.370001</td>\n",
       "      <td>4</td>\n",
       "    </tr>\n",
       "    <tr>\n",
       "      <th>4</th>\n",
       "      <td>1961-01-01</td>\n",
       "      <td>726.20001</td>\n",
       "      <td>25.490000</td>\n",
       "      <td>19.570000</td>\n",
       "      <td>2366.5000</td>\n",
       "      <td>142.22000</td>\n",
       "      <td>113.40</td>\n",
       "      <td>1961-04-01</td>\n",
       "      <td>3.238286</td>\n",
       "      <td>0.090000</td>\n",
       "      <td>0.003537</td>\n",
       "      <td>25.400000</td>\n",
       "      <td>5</td>\n",
       "    </tr>\n",
       "  </tbody>\n",
       "</table>\n",
       "</div>"
      ],
      "text/plain": [
       "     yearqrt         m3        ppi        cpi        gdp      m1nsa   ddnsa  \\\n",
       "0 1960-01-01  692.00000  25.400000  19.280001  2391.0000  140.53000  111.67   \n",
       "1 1960-04-01  701.59998  25.440001  19.400000  2379.2000  138.42999  109.47   \n",
       "2 1960-07-01  709.50000  25.370001  19.450001  2383.6001  139.60001  110.33   \n",
       "3 1960-10-01  722.09998  25.400000  19.559999  2352.8999  142.67999  113.23   \n",
       "4 1961-01-01  726.20001  25.490000  19.570000  2366.5000  142.22000  113.40   \n",
       "\n",
       "           t     lnppi      dppi    dlnppi       lppi  trend  \n",
       "0 1960-04-01  3.234749       NaN       NaN        NaN      1  \n",
       "1 1960-07-01  3.236323  0.040001  0.001574  25.400000      2  \n",
       "2 1960-10-01  3.233567 -0.070000 -0.002755  25.440001      3  \n",
       "3 1961-01-01  3.234749  0.029999  0.001182  25.370001      4  \n",
       "4 1961-04-01  3.238286  0.090000  0.003537  25.400000      5  "
      ]
     },
     "execution_count": 2,
     "metadata": {},
     "output_type": "execute_result"
    }
   ],
   "source": [
    "# importing data\n",
    "df = pd.read_csv('ppi.csv',parse_dates =['yearqrt','t'])\n",
    "df.head()"
   ]
  },
  {
   "cell_type": "code",
   "execution_count": 3,
   "id": "9b7cc4b3",
   "metadata": {},
   "outputs": [
    {
     "data": {
      "text/plain": [
       "(169, 13)"
      ]
     },
     "execution_count": 3,
     "metadata": {},
     "output_type": "execute_result"
    }
   ],
   "source": [
    "#checking size\n",
    "df.shape"
   ]
  },
  {
   "cell_type": "code",
   "execution_count": 4,
   "id": "4d8812ee",
   "metadata": {},
   "outputs": [
    {
     "data": {
      "text/plain": [
       "Index(['yearqrt', 'm3', 'ppi', 'cpi', 'gdp', 'm1nsa', 'ddnsa', 't', 'lnppi',\n",
       "       'dppi', 'dlnppi', 'lppi', 'trend'],\n",
       "      dtype='object')"
      ]
     },
     "execution_count": 4,
     "metadata": {},
     "output_type": "execute_result"
    }
   ],
   "source": [
    "# column names\n",
    "df.columns"
   ]
  },
  {
   "cell_type": "code",
   "execution_count": 5,
   "id": "2f9d2490",
   "metadata": {},
   "outputs": [
    {
     "data": {
      "text/plain": [
       "yearqrt    datetime64[ns]\n",
       "m3                float64\n",
       "ppi               float64\n",
       "cpi               float64\n",
       "gdp               float64\n",
       "m1nsa             float64\n",
       "ddnsa             float64\n",
       "t          datetime64[ns]\n",
       "lnppi             float64\n",
       "dppi              float64\n",
       "dlnppi            float64\n",
       "lppi              float64\n",
       "trend               int64\n",
       "dtype: object"
      ]
     },
     "execution_count": 5,
     "metadata": {},
     "output_type": "execute_result"
    }
   ],
   "source": [
    "# datatypes of the columns\n",
    "df.dtypes"
   ]
  },
  {
   "cell_type": "code",
   "execution_count": 6,
   "id": "d97d722a",
   "metadata": {},
   "outputs": [
    {
     "data": {
      "text/plain": [
       "yearqrt    0\n",
       "m3         0\n",
       "ppi        0\n",
       "cpi        0\n",
       "gdp        0\n",
       "m1nsa      0\n",
       "ddnsa      0\n",
       "t          0\n",
       "lnppi      0\n",
       "dppi       1\n",
       "dlnppi     1\n",
       "lppi       1\n",
       "trend      0\n",
       "dtype: int64"
      ]
     },
     "execution_count": 6,
     "metadata": {},
     "output_type": "execute_result"
    }
   ],
   "source": [
    "# checking for nulls\n",
    "df.isnull().sum()"
   ]
  },
  {
   "cell_type": "code",
   "execution_count": 7,
   "id": "e46ccbc5",
   "metadata": {},
   "outputs": [
    {
     "data": {
      "text/plain": [
       "0"
      ]
     },
     "execution_count": 7,
     "metadata": {},
     "output_type": "execute_result"
    }
   ],
   "source": [
    "# checking for duplicates\n",
    "df.duplicated().sum()"
   ]
  },
  {
   "cell_type": "markdown",
   "id": "a6dfd100",
   "metadata": {},
   "source": [
    "### EDA"
   ]
  },
  {
   "cell_type": "code",
   "execution_count": 8,
   "id": "48d7c1c7",
   "metadata": {},
   "outputs": [],
   "source": [
    "def histplot(df,col1,c):\n",
    "    plt.figure(figsize=(10,5))\n",
    "    sns.histplot(x = df[col1],kde=True,color=c)\n",
    "    plt.title(f'{col1} Distribution')"
   ]
  },
  {
   "cell_type": "code",
   "execution_count": 9,
   "id": "7496a7e3",
   "metadata": {},
   "outputs": [],
   "source": [
    "def boxplot(df,col1,color):\n",
    "    plt.figure(figsize=(8,5))\n",
    "    sns.boxplot(x = df[col1],palette=color)\n",
    "    plt.title(f'{col1} Distribution')"
   ]
  },
  {
   "cell_type": "code",
   "execution_count": 10,
   "id": "bfb66100",
   "metadata": {},
   "outputs": [
    {
     "data": {
      "image/png": "[encoded data removed]",
      "text/plain": [
       "<Figure size 720x360 with 1 Axes>"
      ]
     },
     "metadata": {
      "needs_background": "light"
     },
     "output_type": "display_data"
    }
   ],
   "source": [
    "histplot(df,'m3','g')"
   ]
  },
  {
   "cell_type": "code",
   "execution_count": 11,
   "id": "1ba393c3",
   "metadata": {},
   "outputs": [
    {
     "data": {
      "image/png": "[encoded data removed]",
      "text/plain": [
       "<Figure size 720x360 with 1 Axes>"
      ]
     },
     "metadata": {
      "needs_background": "light"
     },
     "output_type": "display_data"
    }
   ],
   "source": [
    "histplot(df,'ppi','y')"
   ]
  },
  {
   "cell_type": "code",
   "execution_count": 12,
   "id": "f0f54ddf",
   "metadata": {},
   "outputs": [
    {
     "data": {
      "image/png": "[encoded data removed]",
      "text/plain": [
       "<Figure size 720x360 with 1 Axes>"
      ]
     },
     "metadata": {
      "needs_background": "light"
     },
     "output_type": "display_data"
    }
   ],
   "source": [
    "histplot(df,'cpi','r')"
   ]
  },
  {
   "cell_type": "code",
   "execution_count": 13,
   "id": "5acb1863",
   "metadata": {},
   "outputs": [
    {
     "data": {
      "image/png": "[encoded data removed]",
      "text/plain": [
       "<Figure size 720x360 with 1 Axes>"
      ]
     },
     "metadata": {
      "needs_background": "light"
     },
     "output_type": "display_data"
    }
   ],
   "source": [
    "histplot(df,'gdp','b')"
   ]
  },
  {
   "cell_type": "code",
   "execution_count": 14,
   "id": "9c728beb",
   "metadata": {},
   "outputs": [
    {
     "data": {
      "text/plain": [
       "<seaborn.axisgrid.FacetGrid at 0x1ca3c584d60>"
      ]
     },
     "execution_count": 14,
     "metadata": {},
     "output_type": "execute_result"
    },
    {
     "data": {
      "image/png": "[encoded data removed]",
      "text/plain": [
       "<Figure size 720x360 with 1 Axes>"
      ]
     },
     "metadata": {
      "needs_background": "light"
     },
     "output_type": "display_data"
    }
   ],
   "source": [
    "sns.relplot(data=df,x='ppi',y='gdp',kind = 'line',aspect=2)"
   ]
  },
  {
   "cell_type": "code",
   "execution_count": 15,
   "id": "d42fa2b7",
   "metadata": {},
   "outputs": [
    {
     "data": {
      "text/plain": [
       "<seaborn.axisgrid.FacetGrid at 0x1ca3c5c2a60>"
      ]
     },
     "execution_count": 15,
     "metadata": {},
     "output_type": "execute_result"
    },
    {
     "data": {
      "image/png": "[encoded data removed]",
      "text/plain": [
       "<Figure size 720x360 with 1 Axes>"
      ]
     },
     "metadata": {
      "needs_background": "light"
     },
     "output_type": "display_data"
    }
   ],
   "source": [
    "sns.relplot(data=df,x='cpi',y='gdp',kind = 'line',aspect=2)"
   ]
  },
  {
   "cell_type": "code",
   "execution_count": 16,
   "id": "b506ba05",
   "metadata": {},
   "outputs": [
    {
     "data": {
      "text/plain": [
       "<seaborn.axisgrid.FacetGrid at 0x1ca3c61f970>"
      ]
     },
     "execution_count": 16,
     "metadata": {},
     "output_type": "execute_result"
    },
    {
     "data": {
      "image/png": "[encoded data removed]",
      "text/plain": [
       "<Figure size 720x360 with 1 Axes>"
      ]
     },
     "metadata": {
      "needs_background": "light"
     },
     "output_type": "display_data"
    }
   ],
   "source": [
    "sns.relplot(data=df,x='ppi',y='cpi',kind = 'line',aspect=2)"
   ]
  },
  {
   "cell_type": "markdown",
   "id": "8e5f7da2",
   "metadata": {},
   "source": [
    "### COMPONENTS OF THE TIME "
   ]
  },
  {
   "cell_type": "code",
   "execution_count": 17,
   "id": "98ffd420",
   "metadata": {},
   "outputs": [],
   "source": [
    "df = df.set_index('yearqrt')"
   ]
  },
  {
   "cell_type": "code",
   "execution_count": 18,
   "id": "5afc9f6d",
   "metadata": {},
   "outputs": [],
   "source": [
    "ts_comp=seasonal_decompose(df.ppi,period=4)"
   ]
  },
  {
   "cell_type": "code",
   "execution_count": 19,
   "id": "2c7b2efb",
   "metadata": {},
   "outputs": [],
   "source": [
    "d_trend=ts_comp.trend\n",
    "d_seasonal=ts_comp.seasonal\n",
    "d_residual=ts_comp.resid"
   ]
  },
  {
   "cell_type": "code",
   "execution_count": 20,
   "id": "6721c547",
   "metadata": {},
   "outputs": [
    {
     "data": {
      "image/png": "[encoded data removed]",
      "text/plain": [
       "<Figure size 864x864 with 4 Axes>"
      ]
     },
     "metadata": {
      "needs_background": "light"
     },
     "output_type": "display_data"
    }
   ],
   "source": [
    "_,ax=plt.subplots(4,1,figsize=(12,12))\n",
    "plt.subplot(411)\n",
    "plt.plot(df.ppi,label=\"ppi\")\n",
    "plt.legend()\n",
    "\n",
    "plt.subplot(412)\n",
    "plt.plot(d_trend,label='Trend')\n",
    "plt.legend()\n",
    "\n",
    "plt.subplot(413)\n",
    "plt.plot(d_seasonal,label='Seasonal')\n",
    "plt.legend()\n",
    "\n",
    "plt.subplot(414)\n",
    "plt.plot(d_residual,label='Residual')\n",
    "plt.legend()\n",
    "plt.show()"
   ]
  },
  {
   "cell_type": "code",
   "execution_count": 21,
   "id": "da792734",
   "metadata": {},
   "outputs": [],
   "source": [
    "ppi = df.ppi"
   ]
  },
  {
   "cell_type": "code",
   "execution_count": 22,
   "id": "4a0a39ca",
   "metadata": {},
   "outputs": [],
   "source": [
    "def tripleSmoothing(data,alpha,beta,gamma,period=4,trend='multiplicative',seasonal='additive'):\n",
    "    model=ExponentialSmoothing(data,trend=trend,seasonal_periods=period,seasonal=seasonal).fit(smoothing_level=alpha,smoothing_slope=beta,\n",
    "                                                                          smoothing_seasonal=gamma)\n",
    "    fcast=model.fittedvalues\n",
    "    MSE=round(mean_squared_error(data,fcast),3)\n",
    "    return MSE,fcast"
   ]
  },
  {
   "cell_type": "code",
   "execution_count": 23,
   "id": "bb1789d6",
   "metadata": {},
   "outputs": [],
   "source": [
    "alpha=[0.1,0.13,0.15]\n",
    "beta=[0.2,0.4,0.17]\n",
    "gamma=[0.1,0.36,0.4]\n",
    "x=[]\n",
    "y=[]\n",
    "z=[]\n",
    "mse=[]\n",
    "for i in range(len(alpha)):\n",
    "    for j in range(len(beta)):\n",
    "        for k in range(len(gamma)):\n",
    "            x.append(alpha[i])\n",
    "            y.append(beta[j])\n",
    "            z.append(gamma[k])\n",
    "            error=tripleSmoothing(ppi,alpha=alpha[i],beta=beta[j],gamma=gamma[k])[0]\n",
    "            mse.append(error)"
   ]
  },
  {
   "cell_type": "code",
   "execution_count": 24,
   "id": "01fc8240",
   "metadata": {},
   "outputs": [],
   "source": [
    "param_df=pd.DataFrame(list(zip(x,y,z,mse)),columns=['Alpha','Beta','Gamma','MSE'])"
   ]
  },
  {
   "cell_type": "code",
   "execution_count": 25,
   "id": "b3d0480c",
   "metadata": {},
   "outputs": [
    {
     "data": {
      "text/html": [
       "<div>\n",
       "<style scoped>\n",
       "    .dataframe tbody tr th:only-of-type {\n",
       "        vertical-align: middle;\n",
       "    }\n",
       "\n",
       "    .dataframe tbody tr th {\n",
       "        vertical-align: top;\n",
       "    }\n",
       "\n",
       "    .dataframe thead th {\n",
       "        text-align: right;\n",
       "    }\n",
       "</style>\n",
       "<table border=\"1\" class=\"dataframe\">\n",
       "  <thead>\n",
       "    <tr style=\"text-align: right;\">\n",
       "      <th></th>\n",
       "      <th>Alpha</th>\n",
       "      <th>Beta</th>\n",
       "      <th>Gamma</th>\n",
       "      <th>MSE</th>\n",
       "    </tr>\n",
       "  </thead>\n",
       "  <tbody>\n",
       "    <tr>\n",
       "      <th>23</th>\n",
       "      <td>0.15</td>\n",
       "      <td>0.40</td>\n",
       "      <td>0.40</td>\n",
       "      <td>4.808</td>\n",
       "    </tr>\n",
       "    <tr>\n",
       "      <th>20</th>\n",
       "      <td>0.15</td>\n",
       "      <td>0.20</td>\n",
       "      <td>0.40</td>\n",
       "      <td>4.958</td>\n",
       "    </tr>\n",
       "    <tr>\n",
       "      <th>22</th>\n",
       "      <td>0.15</td>\n",
       "      <td>0.40</td>\n",
       "      <td>0.36</td>\n",
       "      <td>4.981</td>\n",
       "    </tr>\n",
       "    <tr>\n",
       "      <th>26</th>\n",
       "      <td>0.15</td>\n",
       "      <td>0.17</td>\n",
       "      <td>0.40</td>\n",
       "      <td>5.023</td>\n",
       "    </tr>\n",
       "    <tr>\n",
       "      <th>19</th>\n",
       "      <td>0.15</td>\n",
       "      <td>0.20</td>\n",
       "      <td>0.36</td>\n",
       "      <td>5.143</td>\n",
       "    </tr>\n",
       "    <tr>\n",
       "      <th>25</th>\n",
       "      <td>0.15</td>\n",
       "      <td>0.17</td>\n",
       "      <td>0.36</td>\n",
       "      <td>5.174</td>\n",
       "    </tr>\n",
       "    <tr>\n",
       "      <th>14</th>\n",
       "      <td>0.13</td>\n",
       "      <td>0.40</td>\n",
       "      <td>0.40</td>\n",
       "      <td>5.406</td>\n",
       "    </tr>\n",
       "    <tr>\n",
       "      <th>11</th>\n",
       "      <td>0.13</td>\n",
       "      <td>0.20</td>\n",
       "      <td>0.40</td>\n",
       "      <td>5.535</td>\n",
       "    </tr>\n",
       "    <tr>\n",
       "      <th>17</th>\n",
       "      <td>0.13</td>\n",
       "      <td>0.17</td>\n",
       "      <td>0.40</td>\n",
       "      <td>5.601</td>\n",
       "    </tr>\n",
       "    <tr>\n",
       "      <th>13</th>\n",
       "      <td>0.13</td>\n",
       "      <td>0.40</td>\n",
       "      <td>0.36</td>\n",
       "      <td>5.618</td>\n",
       "    </tr>\n",
       "    <tr>\n",
       "      <th>10</th>\n",
       "      <td>0.13</td>\n",
       "      <td>0.20</td>\n",
       "      <td>0.36</td>\n",
       "      <td>5.738</td>\n",
       "    </tr>\n",
       "    <tr>\n",
       "      <th>16</th>\n",
       "      <td>0.13</td>\n",
       "      <td>0.17</td>\n",
       "      <td>0.36</td>\n",
       "      <td>5.758</td>\n",
       "    </tr>\n",
       "    <tr>\n",
       "      <th>5</th>\n",
       "      <td>0.10</td>\n",
       "      <td>0.40</td>\n",
       "      <td>0.40</td>\n",
       "      <td>6.487</td>\n",
       "    </tr>\n",
       "    <tr>\n",
       "      <th>21</th>\n",
       "      <td>0.15</td>\n",
       "      <td>0.40</td>\n",
       "      <td>0.10</td>\n",
       "      <td>6.491</td>\n",
       "    </tr>\n",
       "    <tr>\n",
       "      <th>24</th>\n",
       "      <td>0.15</td>\n",
       "      <td>0.17</td>\n",
       "      <td>0.10</td>\n",
       "      <td>6.572</td>\n",
       "    </tr>\n",
       "    <tr>\n",
       "      <th>2</th>\n",
       "      <td>0.10</td>\n",
       "      <td>0.20</td>\n",
       "      <td>0.40</td>\n",
       "      <td>6.585</td>\n",
       "    </tr>\n",
       "    <tr>\n",
       "      <th>18</th>\n",
       "      <td>0.15</td>\n",
       "      <td>0.20</td>\n",
       "      <td>0.10</td>\n",
       "      <td>6.596</td>\n",
       "    </tr>\n",
       "    <tr>\n",
       "      <th>8</th>\n",
       "      <td>0.10</td>\n",
       "      <td>0.17</td>\n",
       "      <td>0.40</td>\n",
       "      <td>6.653</td>\n",
       "    </tr>\n",
       "    <tr>\n",
       "      <th>4</th>\n",
       "      <td>0.10</td>\n",
       "      <td>0.40</td>\n",
       "      <td>0.36</td>\n",
       "      <td>6.797</td>\n",
       "    </tr>\n",
       "    <tr>\n",
       "      <th>1</th>\n",
       "      <td>0.10</td>\n",
       "      <td>0.20</td>\n",
       "      <td>0.36</td>\n",
       "      <td>6.835</td>\n",
       "    </tr>\n",
       "    <tr>\n",
       "      <th>7</th>\n",
       "      <td>0.10</td>\n",
       "      <td>0.17</td>\n",
       "      <td>0.36</td>\n",
       "      <td>6.932</td>\n",
       "    </tr>\n",
       "    <tr>\n",
       "      <th>9</th>\n",
       "      <td>0.13</td>\n",
       "      <td>0.20</td>\n",
       "      <td>0.10</td>\n",
       "      <td>7.519</td>\n",
       "    </tr>\n",
       "    <tr>\n",
       "      <th>15</th>\n",
       "      <td>0.13</td>\n",
       "      <td>0.17</td>\n",
       "      <td>0.10</td>\n",
       "      <td>7.526</td>\n",
       "    </tr>\n",
       "    <tr>\n",
       "      <th>12</th>\n",
       "      <td>0.13</td>\n",
       "      <td>0.40</td>\n",
       "      <td>0.10</td>\n",
       "      <td>7.614</td>\n",
       "    </tr>\n",
       "    <tr>\n",
       "      <th>0</th>\n",
       "      <td>0.10</td>\n",
       "      <td>0.20</td>\n",
       "      <td>0.10</td>\n",
       "      <td>9.386</td>\n",
       "    </tr>\n",
       "    <tr>\n",
       "      <th>6</th>\n",
       "      <td>0.10</td>\n",
       "      <td>0.17</td>\n",
       "      <td>0.10</td>\n",
       "      <td>9.428</td>\n",
       "    </tr>\n",
       "    <tr>\n",
       "      <th>3</th>\n",
       "      <td>0.10</td>\n",
       "      <td>0.40</td>\n",
       "      <td>0.10</td>\n",
       "      <td>10.041</td>\n",
       "    </tr>\n",
       "  </tbody>\n",
       "</table>\n",
       "</div>"
      ],
      "text/plain": [
       "    Alpha  Beta  Gamma     MSE\n",
       "23   0.15  0.40   0.40   4.808\n",
       "20   0.15  0.20   0.40   4.958\n",
       "22   0.15  0.40   0.36   4.981\n",
       "26   0.15  0.17   0.40   5.023\n",
       "19   0.15  0.20   0.36   5.143\n",
       "25   0.15  0.17   0.36   5.174\n",
       "14   0.13  0.40   0.40   5.406\n",
       "11   0.13  0.20   0.40   5.535\n",
       "17   0.13  0.17   0.40   5.601\n",
       "13   0.13  0.40   0.36   5.618\n",
       "10   0.13  0.20   0.36   5.738\n",
       "16   0.13  0.17   0.36   5.758\n",
       "5    0.10  0.40   0.40   6.487\n",
       "21   0.15  0.40   0.10   6.491\n",
       "24   0.15  0.17   0.10   6.572\n",
       "2    0.10  0.20   0.40   6.585\n",
       "18   0.15  0.20   0.10   6.596\n",
       "8    0.10  0.17   0.40   6.653\n",
       "4    0.10  0.40   0.36   6.797\n",
       "1    0.10  0.20   0.36   6.835\n",
       "7    0.10  0.17   0.36   6.932\n",
       "9    0.13  0.20   0.10   7.519\n",
       "15   0.13  0.17   0.10   7.526\n",
       "12   0.13  0.40   0.10   7.614\n",
       "0    0.10  0.20   0.10   9.386\n",
       "6    0.10  0.17   0.10   9.428\n",
       "3    0.10  0.40   0.10  10.041"
      ]
     },
     "execution_count": 25,
     "metadata": {},
     "output_type": "execute_result"
    }
   ],
   "source": [
    "param_df.sort_values(by='MSE',ascending=True)"
   ]
  },
  {
   "cell_type": "code",
   "execution_count": 26,
   "id": "54c053c6",
   "metadata": {},
   "outputs": [],
   "source": [
    "ppi_smooth = tripleSmoothing(ppi,alpha=0.15,beta=0.40,gamma=0.40)[1]"
   ]
  },
  {
   "cell_type": "markdown",
   "id": "9ec51dba",
   "metadata": {},
   "source": [
    "#### CHECKING STATIONARITY"
   ]
  },
  {
   "cell_type": "code",
   "execution_count": 27,
   "id": "3f295f91",
   "metadata": {},
   "outputs": [],
   "source": [
    "def stationarity(data):\n",
    "    pvalue=adfuller(data)[1]\n",
    "    if pvalue < 0.05:\n",
    "        msg=\"Data is Stationary, Proceed to model building.\"\n",
    "    else:\n",
    "        msg=\"Data is not Stationary.Difference the data before model building.\"\n",
    "    return(msg)"
   ]
  },
  {
   "cell_type": "code",
   "execution_count": 28,
   "id": "6805d72f",
   "metadata": {},
   "outputs": [
    {
     "data": {
      "text/plain": [
       "'Data is not Stationary.Difference the data before model building.'"
      ]
     },
     "execution_count": 28,
     "metadata": {},
     "output_type": "execute_result"
    }
   ],
   "source": [
    "stationarity(ppi_smooth)"
   ]
  },
  {
   "cell_type": "code",
   "execution_count": 29,
   "id": "0f9edfc6",
   "metadata": {},
   "outputs": [],
   "source": [
    "# differencing\n",
    "diff_ppi = ppi_smooth - ppi_smooth.shift()\n",
    "diff_ppi.dropna(inplace = True)"
   ]
  },
  {
   "cell_type": "code",
   "execution_count": 30,
   "id": "40417468",
   "metadata": {},
   "outputs": [
    {
     "data": {
      "text/plain": [
       "'Data is Stationary, Proceed to model building.'"
      ]
     },
     "execution_count": 30,
     "metadata": {},
     "output_type": "execute_result"
    }
   ],
   "source": [
    "stationarity(diff_ppi)"
   ]
  },
  {
   "cell_type": "markdown",
   "id": "43969fb5",
   "metadata": {},
   "source": [
    "### ARIMA"
   ]
  },
  {
   "cell_type": "code",
   "execution_count": 31,
   "id": "0a7d1ffd",
   "metadata": {},
   "outputs": [
    {
     "name": "stdout",
     "output_type": "stream",
     "text": [
      "train = 118, test = 51\n"
     ]
    }
   ],
   "source": [
    "#splitting the data\n",
    "ss = int(0.70 * len(ppi_smooth))\n",
    "\n",
    "train = ppi_smooth.iloc[:ss]\n",
    "test = ppi_smooth.iloc[ss:]\n",
    "print(\"train = {}, test = {}\".format(len(train), len(test)))"
   ]
  },
  {
   "cell_type": "markdown",
   "id": "31bf025d",
   "metadata": {},
   "source": [
    "#### ACF / PACF FOR ARIMA"
   ]
  },
  {
   "cell_type": "code",
   "execution_count": 32,
   "id": "f2491e66",
   "metadata": {},
   "outputs": [
    {
     "data": {
      "image/png": "[encoded data removed]",
      "text/plain": [
       "<Figure size 864x432 with 2 Axes>"
      ]
     },
     "metadata": {
      "needs_background": "light"
     },
     "output_type": "display_data"
    }
   ],
   "source": [
    "ROWS = 1; COLS = 2\n",
    "fig,ax = plt.subplots(ROWS,COLS,figsize=(12,6))\n",
    "plot_acf(diff_ppi, lags=20, ax=ax[0]);\n",
    "plt.title(\"Auto Correlation\")\n",
    "\n",
    "plot_pacf(diff_ppi, lags=20, ax=ax[1]);\n",
    "plt.title(\"Partial Auto Correlation\")\n",
    "\n",
    "plt.show()"
   ]
  },
  {
   "cell_type": "code",
   "execution_count": 33,
   "id": "ed57bfb1",
   "metadata": {},
   "outputs": [],
   "source": [
    "#p = [0 - 6]\n",
    "#q = [0 - 5]"
   ]
  },
  {
   "cell_type": "markdown",
   "id": "2349cbcf",
   "metadata": {},
   "source": [
    "#### HYPERPARAMETERS TUNING FOR ARIMA"
   ]
  },
  {
   "cell_type": "code",
   "execution_count": 34,
   "id": "44353a1c",
   "metadata": {},
   "outputs": [],
   "source": [
    "p_val = []\n",
    "q_val = []\n",
    "aic_val = []\n",
    "bic_val = []\n",
    "mse_val = []\n",
    "rmse_val = []\n",
    "def ARMA_checkmodel(p,q):\n",
    "    p_val.append(p)\n",
    "    q_val.append(q)\n",
    "    model = ARIMA(train,order=(p,1,q)).fit()\n",
    "    aic,bic = model.aic, model.bic\n",
    "    aic_val.append(aic)\n",
    "    bic_val.append(bic)\n",
    "    predictions = model.predict(0,len(test)-1)\n",
    "    actual = []; pred = []\n",
    "    for i in range(len(predictions)):\n",
    "        actual.append(test[i])\n",
    "        pred.append(predictions[i])\n",
    "    df_res = pd.DataFrame({'actual':actual, 'predicted':pred})\n",
    "    mse = mean_squared_error(df_res.actual,df_res.predicted)\n",
    "    rmse = np.sqrt(mse)\n",
    "    mse_val.append(mse)\n",
    "    rmse_val.append(rmse)\n",
    "    "
   ]
  },
  {
   "cell_type": "code",
   "execution_count": 35,
   "id": "9e15ea58",
   "metadata": {},
   "outputs": [],
   "source": [
    "p = [0,1,2,3,4,5,6]\n",
    "q = [0,1,2,3,4,5]"
   ]
  },
  {
   "cell_type": "code",
   "execution_count": 36,
   "id": "0191603a",
   "metadata": {},
   "outputs": [],
   "source": [
    "for i in p:\n",
    "    for j in q:\n",
    "        ARMA_checkmodel(i,j)"
   ]
  },
  {
   "cell_type": "code",
   "execution_count": 37,
   "id": "195b39a5",
   "metadata": {},
   "outputs": [
    {
     "data": {
      "text/html": [
       "<div>\n",
       "<style scoped>\n",
       "    .dataframe tbody tr th:only-of-type {\n",
       "        vertical-align: middle;\n",
       "    }\n",
       "\n",
       "    .dataframe tbody tr th {\n",
       "        vertical-align: top;\n",
       "    }\n",
       "\n",
       "    .dataframe thead th {\n",
       "        text-align: right;\n",
       "    }\n",
       "</style>\n",
       "<table border=\"1\" class=\"dataframe\">\n",
       "  <thead>\n",
       "    <tr style=\"text-align: right;\">\n",
       "      <th></th>\n",
       "      <th>p</th>\n",
       "      <th>q</th>\n",
       "      <th>rmse</th>\n",
       "    </tr>\n",
       "  </thead>\n",
       "  <tbody>\n",
       "    <tr>\n",
       "      <th>26</th>\n",
       "      <td>4</td>\n",
       "      <td>2</td>\n",
       "      <td>72.904633</td>\n",
       "    </tr>\n",
       "    <tr>\n",
       "      <th>15</th>\n",
       "      <td>2</td>\n",
       "      <td>3</td>\n",
       "      <td>72.904682</td>\n",
       "    </tr>\n",
       "    <tr>\n",
       "      <th>25</th>\n",
       "      <td>4</td>\n",
       "      <td>1</td>\n",
       "      <td>72.904787</td>\n",
       "    </tr>\n",
       "    <tr>\n",
       "      <th>20</th>\n",
       "      <td>3</td>\n",
       "      <td>2</td>\n",
       "      <td>72.904794</td>\n",
       "    </tr>\n",
       "    <tr>\n",
       "      <th>19</th>\n",
       "      <td>3</td>\n",
       "      <td>1</td>\n",
       "      <td>72.904913</td>\n",
       "    </tr>\n",
       "    <tr>\n",
       "      <th>14</th>\n",
       "      <td>2</td>\n",
       "      <td>2</td>\n",
       "      <td>72.904926</td>\n",
       "    </tr>\n",
       "    <tr>\n",
       "      <th>13</th>\n",
       "      <td>2</td>\n",
       "      <td>1</td>\n",
       "      <td>72.905006</td>\n",
       "    </tr>\n",
       "    <tr>\n",
       "      <th>41</th>\n",
       "      <td>6</td>\n",
       "      <td>5</td>\n",
       "      <td>72.905275</td>\n",
       "    </tr>\n",
       "    <tr>\n",
       "      <th>17</th>\n",
       "      <td>2</td>\n",
       "      <td>5</td>\n",
       "      <td>72.905488</td>\n",
       "    </tr>\n",
       "    <tr>\n",
       "      <th>24</th>\n",
       "      <td>4</td>\n",
       "      <td>0</td>\n",
       "      <td>72.905854</td>\n",
       "    </tr>\n",
       "    <tr>\n",
       "      <th>21</th>\n",
       "      <td>3</td>\n",
       "      <td>3</td>\n",
       "      <td>72.906064</td>\n",
       "    </tr>\n",
       "    <tr>\n",
       "      <th>18</th>\n",
       "      <td>3</td>\n",
       "      <td>0</td>\n",
       "      <td>72.906102</td>\n",
       "    </tr>\n",
       "    <tr>\n",
       "      <th>8</th>\n",
       "      <td>1</td>\n",
       "      <td>2</td>\n",
       "      <td>72.906264</td>\n",
       "    </tr>\n",
       "    <tr>\n",
       "      <th>12</th>\n",
       "      <td>2</td>\n",
       "      <td>0</td>\n",
       "      <td>72.906447</td>\n",
       "    </tr>\n",
       "    <tr>\n",
       "      <th>10</th>\n",
       "      <td>1</td>\n",
       "      <td>4</td>\n",
       "      <td>72.906475</td>\n",
       "    </tr>\n",
       "    <tr>\n",
       "      <th>9</th>\n",
       "      <td>1</td>\n",
       "      <td>3</td>\n",
       "      <td>72.906477</td>\n",
       "    </tr>\n",
       "    <tr>\n",
       "      <th>7</th>\n",
       "      <td>1</td>\n",
       "      <td>1</td>\n",
       "      <td>72.906513</td>\n",
       "    </tr>\n",
       "    <tr>\n",
       "      <th>27</th>\n",
       "      <td>4</td>\n",
       "      <td>3</td>\n",
       "      <td>72.906569</td>\n",
       "    </tr>\n",
       "    <tr>\n",
       "      <th>36</th>\n",
       "      <td>6</td>\n",
       "      <td>0</td>\n",
       "      <td>72.906668</td>\n",
       "    </tr>\n",
       "    <tr>\n",
       "      <th>33</th>\n",
       "      <td>5</td>\n",
       "      <td>3</td>\n",
       "      <td>72.906724</td>\n",
       "    </tr>\n",
       "    <tr>\n",
       "      <th>32</th>\n",
       "      <td>5</td>\n",
       "      <td>2</td>\n",
       "      <td>72.906737</td>\n",
       "    </tr>\n",
       "    <tr>\n",
       "      <th>6</th>\n",
       "      <td>1</td>\n",
       "      <td>0</td>\n",
       "      <td>72.906743</td>\n",
       "    </tr>\n",
       "    <tr>\n",
       "      <th>38</th>\n",
       "      <td>6</td>\n",
       "      <td>2</td>\n",
       "      <td>72.906760</td>\n",
       "    </tr>\n",
       "    <tr>\n",
       "      <th>11</th>\n",
       "      <td>1</td>\n",
       "      <td>5</td>\n",
       "      <td>72.906781</td>\n",
       "    </tr>\n",
       "    <tr>\n",
       "      <th>31</th>\n",
       "      <td>5</td>\n",
       "      <td>1</td>\n",
       "      <td>72.906799</td>\n",
       "    </tr>\n",
       "    <tr>\n",
       "      <th>39</th>\n",
       "      <td>6</td>\n",
       "      <td>3</td>\n",
       "      <td>72.906802</td>\n",
       "    </tr>\n",
       "    <tr>\n",
       "      <th>16</th>\n",
       "      <td>2</td>\n",
       "      <td>4</td>\n",
       "      <td>72.907195</td>\n",
       "    </tr>\n",
       "    <tr>\n",
       "      <th>40</th>\n",
       "      <td>6</td>\n",
       "      <td>4</td>\n",
       "      <td>72.907318</td>\n",
       "    </tr>\n",
       "    <tr>\n",
       "      <th>34</th>\n",
       "      <td>5</td>\n",
       "      <td>4</td>\n",
       "      <td>72.907338</td>\n",
       "    </tr>\n",
       "    <tr>\n",
       "      <th>30</th>\n",
       "      <td>5</td>\n",
       "      <td>0</td>\n",
       "      <td>72.907591</td>\n",
       "    </tr>\n",
       "    <tr>\n",
       "      <th>28</th>\n",
       "      <td>4</td>\n",
       "      <td>4</td>\n",
       "      <td>72.907887</td>\n",
       "    </tr>\n",
       "    <tr>\n",
       "      <th>29</th>\n",
       "      <td>4</td>\n",
       "      <td>5</td>\n",
       "      <td>72.908154</td>\n",
       "    </tr>\n",
       "    <tr>\n",
       "      <th>23</th>\n",
       "      <td>3</td>\n",
       "      <td>5</td>\n",
       "      <td>72.908206</td>\n",
       "    </tr>\n",
       "    <tr>\n",
       "      <th>35</th>\n",
       "      <td>5</td>\n",
       "      <td>5</td>\n",
       "      <td>72.908283</td>\n",
       "    </tr>\n",
       "    <tr>\n",
       "      <th>37</th>\n",
       "      <td>6</td>\n",
       "      <td>1</td>\n",
       "      <td>72.908438</td>\n",
       "    </tr>\n",
       "    <tr>\n",
       "      <th>22</th>\n",
       "      <td>3</td>\n",
       "      <td>4</td>\n",
       "      <td>72.908861</td>\n",
       "    </tr>\n",
       "    <tr>\n",
       "      <th>5</th>\n",
       "      <td>0</td>\n",
       "      <td>5</td>\n",
       "      <td>72.921014</td>\n",
       "    </tr>\n",
       "    <tr>\n",
       "      <th>4</th>\n",
       "      <td>0</td>\n",
       "      <td>4</td>\n",
       "      <td>72.925075</td>\n",
       "    </tr>\n",
       "    <tr>\n",
       "      <th>3</th>\n",
       "      <td>0</td>\n",
       "      <td>3</td>\n",
       "      <td>72.932925</td>\n",
       "    </tr>\n",
       "    <tr>\n",
       "      <th>2</th>\n",
       "      <td>0</td>\n",
       "      <td>2</td>\n",
       "      <td>72.938069</td>\n",
       "    </tr>\n",
       "    <tr>\n",
       "      <th>1</th>\n",
       "      <td>0</td>\n",
       "      <td>1</td>\n",
       "      <td>72.971246</td>\n",
       "    </tr>\n",
       "    <tr>\n",
       "      <th>0</th>\n",
       "      <td>0</td>\n",
       "      <td>0</td>\n",
       "      <td>73.018913</td>\n",
       "    </tr>\n",
       "  </tbody>\n",
       "</table>\n",
       "</div>"
      ],
      "text/plain": [
       "    p  q       rmse\n",
       "26  4  2  72.904633\n",
       "15  2  3  72.904682\n",
       "25  4  1  72.904787\n",
       "20  3  2  72.904794\n",
       "19  3  1  72.904913\n",
       "14  2  2  72.904926\n",
       "13  2  1  72.905006\n",
       "41  6  5  72.905275\n",
       "17  2  5  72.905488\n",
       "24  4  0  72.905854\n",
       "21  3  3  72.906064\n",
       "18  3  0  72.906102\n",
       "8   1  2  72.906264\n",
       "12  2  0  72.906447\n",
       "10  1  4  72.906475\n",
       "9   1  3  72.906477\n",
       "7   1  1  72.906513\n",
       "27  4  3  72.906569\n",
       "36  6  0  72.906668\n",
       "33  5  3  72.906724\n",
       "32  5  2  72.906737\n",
       "6   1  0  72.906743\n",
       "38  6  2  72.906760\n",
       "11  1  5  72.906781\n",
       "31  5  1  72.906799\n",
       "39  6  3  72.906802\n",
       "16  2  4  72.907195\n",
       "40  6  4  72.907318\n",
       "34  5  4  72.907338\n",
       "30  5  0  72.907591\n",
       "28  4  4  72.907887\n",
       "29  4  5  72.908154\n",
       "23  3  5  72.908206\n",
       "35  5  5  72.908283\n",
       "37  6  1  72.908438\n",
       "22  3  4  72.908861\n",
       "5   0  5  72.921014\n",
       "4   0  4  72.925075\n",
       "3   0  3  72.932925\n",
       "2   0  2  72.938069\n",
       "1   0  1  72.971246\n",
       "0   0  0  73.018913"
      ]
     },
     "execution_count": 37,
     "metadata": {},
     "output_type": "execute_result"
    }
   ],
   "source": [
    "df_eval = pd.DataFrame({'p':p_val,'q':q_val,'rmse':rmse_val})\n",
    "df_eval.sort_values(by='rmse',ascending=True)"
   ]
  },
  {
   "cell_type": "code",
   "execution_count": 38,
   "id": "d92f8a65",
   "metadata": {},
   "outputs": [
    {
     "data": {
      "text/html": [
       "<table class=\"simpletable\">\n",
       "<caption>SARIMAX Results</caption>\n",
       "<tr>\n",
       "  <th>Dep. Variable:</th>           <td>y</td>        <th>  No. Observations:  </th>   <td>118</td>  \n",
       "</tr>\n",
       "<tr>\n",
       "  <th>Model:</th>            <td>ARIMA(4, 1, 2)</td>  <th>  Log Likelihood     </th> <td>-52.361</td>\n",
       "</tr>\n",
       "<tr>\n",
       "  <th>Date:</th>            <td>Tue, 11 Oct 2022</td> <th>  AIC                </th> <td>118.723</td>\n",
       "</tr>\n",
       "<tr>\n",
       "  <th>Time:</th>                <td>11:30:32</td>     <th>  BIC                </th> <td>138.058</td>\n",
       "</tr>\n",
       "<tr>\n",
       "  <th>Sample:</th>             <td>01-01-1960</td>    <th>  HQIC               </th> <td>126.572</td>\n",
       "</tr>\n",
       "<tr>\n",
       "  <th></th>                   <td>- 04-01-1989</td>   <th>                     </th>    <td> </td>   \n",
       "</tr>\n",
       "<tr>\n",
       "  <th>Covariance Type:</th>        <td>opg</td>       <th>                     </th>    <td> </td>   \n",
       "</tr>\n",
       "</table>\n",
       "<table class=\"simpletable\">\n",
       "<tr>\n",
       "     <td></td>       <th>coef</th>     <th>std err</th>      <th>z</th>      <th>P>|z|</th>  <th>[0.025</th>    <th>0.975]</th>  \n",
       "</tr>\n",
       "<tr>\n",
       "  <th>ar.L1</th>  <td>   -0.2793</td> <td>    0.357</td> <td>   -0.782</td> <td> 0.434</td> <td>   -0.979</td> <td>    0.421</td>\n",
       "</tr>\n",
       "<tr>\n",
       "  <th>ar.L2</th>  <td>    0.6700</td> <td>    0.154</td> <td>    4.358</td> <td> 0.000</td> <td>    0.369</td> <td>    0.971</td>\n",
       "</tr>\n",
       "<tr>\n",
       "  <th>ar.L3</th>  <td>    0.2992</td> <td>    0.320</td> <td>    0.935</td> <td> 0.350</td> <td>   -0.328</td> <td>    0.927</td>\n",
       "</tr>\n",
       "<tr>\n",
       "  <th>ar.L4</th>  <td>    0.1346</td> <td>    0.127</td> <td>    1.060</td> <td> 0.289</td> <td>   -0.114</td> <td>    0.383</td>\n",
       "</tr>\n",
       "<tr>\n",
       "  <th>ma.L1</th>  <td>    1.2365</td> <td>    0.373</td> <td>    3.312</td> <td> 0.001</td> <td>    0.505</td> <td>    1.968</td>\n",
       "</tr>\n",
       "<tr>\n",
       "  <th>ma.L2</th>  <td>    0.5162</td> <td>    0.303</td> <td>    1.706</td> <td> 0.088</td> <td>   -0.077</td> <td>    1.109</td>\n",
       "</tr>\n",
       "<tr>\n",
       "  <th>sigma2</th> <td>    0.1401</td> <td>    0.013</td> <td>   10.619</td> <td> 0.000</td> <td>    0.114</td> <td>    0.166</td>\n",
       "</tr>\n",
       "</table>\n",
       "<table class=\"simpletable\">\n",
       "<tr>\n",
       "  <th>Ljung-Box (L1) (Q):</th>     <td>0.01</td>  <th>  Jarque-Bera (JB):  </th> <td>23.14</td>\n",
       "</tr>\n",
       "<tr>\n",
       "  <th>Prob(Q):</th>                <td>0.94</td>  <th>  Prob(JB):          </th> <td>0.00</td> \n",
       "</tr>\n",
       "<tr>\n",
       "  <th>Heteroskedasticity (H):</th> <td>25.91</td> <th>  Skew:              </th> <td>0.00</td> \n",
       "</tr>\n",
       "<tr>\n",
       "  <th>Prob(H) (two-sided):</th>    <td>0.00</td>  <th>  Kurtosis:          </th> <td>5.18</td> \n",
       "</tr>\n",
       "</table><br/><br/>Warnings:<br/>[1] Covariance matrix calculated using the outer product of gradients (complex-step)."
      ],
      "text/plain": [
       "<class 'statsmodels.iolib.summary.Summary'>\n",
       "\"\"\"\n",
       "                               SARIMAX Results                                \n",
       "==============================================================================\n",
       "Dep. Variable:                      y   No. Observations:                  118\n",
       "Model:                 ARIMA(4, 1, 2)   Log Likelihood                 -52.361\n",
       "Date:                Tue, 11 Oct 2022   AIC                            118.723\n",
       "Time:                        11:30:32   BIC                            138.058\n",
       "Sample:                    01-01-1960   HQIC                           126.572\n",
       "                         - 04-01-1989                                         \n",
       "Covariance Type:                  opg                                         \n",
       "==============================================================================\n",
       "                 coef    std err          z      P>|z|      [0.025      0.975]\n",
       "------------------------------------------------------------------------------\n",
       "ar.L1         -0.2793      0.357     -0.782      0.434      -0.979       0.421\n",
       "ar.L2          0.6700      0.154      4.358      0.000       0.369       0.971\n",
       "ar.L3          0.2992      0.320      0.935      0.350      -0.328       0.927\n",
       "ar.L4          0.1346      0.127      1.060      0.289      -0.114       0.383\n",
       "ma.L1          1.2365      0.373      3.312      0.001       0.505       1.968\n",
       "ma.L2          0.5162      0.303      1.706      0.088      -0.077       1.109\n",
       "sigma2         0.1401      0.013     10.619      0.000       0.114       0.166\n",
       "===================================================================================\n",
       "Ljung-Box (L1) (Q):                   0.01   Jarque-Bera (JB):                23.14\n",
       "Prob(Q):                              0.94   Prob(JB):                         0.00\n",
       "Heteroskedasticity (H):              25.91   Skew:                             0.00\n",
       "Prob(H) (two-sided):                  0.00   Kurtosis:                         5.18\n",
       "===================================================================================\n",
       "\n",
       "Warnings:\n",
       "[1] Covariance matrix calculated using the outer product of gradients (complex-step).\n",
       "\"\"\""
      ]
     },
     "execution_count": 38,
     "metadata": {},
     "output_type": "execute_result"
    }
   ],
   "source": [
    "p=4; q=2\n",
    "m1 = ARIMA(train,order=(p,1,q)).fit()\n",
    "m1.summary()"
   ]
  },
  {
   "cell_type": "code",
   "execution_count": 39,
   "id": "58751774",
   "metadata": {},
   "outputs": [
    {
     "name": "stdout",
     "output_type": "stream",
     "text": [
      "1960-01-01     0.000000\n",
      "1960-04-01    25.463360\n",
      "1960-07-01    25.286423\n",
      "1960-10-01    25.363194\n",
      "1961-01-01    25.391064\n",
      "1961-04-01    25.341074\n",
      "1961-07-01    25.388693\n",
      "1961-10-01    25.249521\n",
      "1962-01-01    25.316376\n",
      "1962-04-01    25.357078\n",
      "1962-07-01    25.084376\n",
      "1962-10-01    25.233028\n",
      "1963-01-01    25.373667\n",
      "1963-04-01    25.462638\n",
      "1963-07-01    25.148819\n",
      "1963-10-01    25.323492\n",
      "1964-01-01    25.371627\n",
      "1964-04-01    25.262316\n",
      "1964-07-01    25.284552\n",
      "1964-10-01    25.359668\n",
      "1965-01-01    25.420659\n",
      "1965-04-01    25.371825\n",
      "1965-07-01    25.317776\n",
      "1965-10-01    25.660105\n",
      "1966-01-01    25.893782\n",
      "1966-04-01    26.029990\n",
      "1966-07-01    26.472003\n",
      "1966-10-01    26.714878\n",
      "1967-01-01    27.044137\n",
      "1967-04-01    27.352945\n",
      "1967-07-01    27.249578\n",
      "1967-10-01    27.426016\n",
      "1968-01-01    27.106418\n",
      "1968-04-01    27.200612\n",
      "1968-07-01    27.344933\n",
      "1968-10-01    27.485229\n",
      "1969-01-01    27.572402\n",
      "1969-04-01    27.905174\n",
      "1969-07-01    28.152974\n",
      "1969-10-01    28.346140\n",
      "1970-01-01    28.714138\n",
      "1970-04-01    29.286941\n",
      "1970-07-01    29.719719\n",
      "1970-10-01    29.785484\n",
      "1971-01-01    30.177542\n",
      "1971-04-01    30.580042\n",
      "1971-07-01    30.667448\n",
      "1971-10-01    30.844831\n",
      "1972-01-01    31.041455\n",
      "1972-04-01    31.606063\n",
      "1972-07-01    31.891148\n",
      "Freq: QS-OCT, Name: predicted_mean, dtype: float64\n"
     ]
    }
   ],
   "source": [
    "#predictions\n",
    "predictions1 = m1.predict(0,len(test)-1)\n",
    "print(predictions1)"
   ]
  },
  {
   "cell_type": "code",
   "execution_count": 40,
   "id": "6eb418dc",
   "metadata": {},
   "outputs": [
    {
     "name": "stdout",
     "output_type": "stream",
     "text": [
      "        actual  predicted        err\n",
      "0    89.771454   0.000000  89.771454\n",
      "1    90.783802  25.463360  65.320442\n",
      "2    92.265886  25.286423  66.979463\n",
      "3    93.605236  25.363194  68.242042\n",
      "4    93.701501  25.391064  68.310437\n",
      "5    94.143916  25.341074  68.802842\n",
      "6    95.849245  25.388693  70.460552\n",
      "7    96.260047  25.249521  71.010526\n",
      "8    96.636093  25.316376  71.319717\n",
      "9    97.150628  25.357078  71.793550\n",
      "10   95.781508  25.084376  70.697132\n",
      "11   94.672108  25.233028  69.439080\n",
      "12   94.503779  25.373667  69.130112\n",
      "13   94.924428  25.462638  69.461790\n",
      "14   94.278362  25.148819  69.129543\n",
      "15   94.454783  25.323492  69.131292\n",
      "16   94.939558  25.371627  69.567931\n",
      "17   95.410237  25.262316  70.147921\n",
      "18   95.354765  25.284552  70.070213\n",
      "19   95.926444  25.359668  70.566776\n",
      "20   95.927252  25.420659  70.506593\n",
      "21   96.373795  25.371825  71.001969\n",
      "22   96.787660  25.317776  71.469885\n",
      "23   97.895108  25.660105  72.235003\n",
      "24   98.849793  25.893782  72.956012\n",
      "25   99.766868  26.029990  73.736879\n",
      "26  101.051258  26.472003  74.579255\n",
      "27  102.187684  26.714878  75.472806\n",
      "28  102.718987  27.044137  75.674850\n",
      "29  103.186081  27.352945  75.833136\n",
      "30  104.048725  27.249578  76.799147\n",
      "31  104.963411  27.426016  77.537396\n",
      "32  104.570121  27.106418  77.463703\n",
      "33  104.139469  27.200612  76.938858\n",
      "34  103.970378  27.344933  76.625445\n",
      "35  103.016287  27.485229  75.531058\n",
      "36  102.125350  27.572402  74.552947\n",
      "37  101.289220  27.905174  73.384046\n",
      "38   99.673440  28.152974  71.520467\n",
      "39   98.872911  28.346140  70.526770\n",
      "40   98.382990  28.714138  69.668852\n",
      "41   98.491237  29.286941  69.204296\n",
      "42   98.644905  29.719719  68.925186\n",
      "43  100.586165  29.785484  70.800681\n",
      "44  102.774490  30.177542  72.596948\n",
      "45  104.486359  30.580042  73.906317\n",
      "46  106.283826  30.667448  75.616378\n",
      "47  109.130879  30.844831  78.286048\n",
      "48  110.976612  31.041455  79.935157\n",
      "49  111.585290  31.606063  79.979227\n",
      "50  111.112131  31.891148  79.220982\n"
     ]
    }
   ],
   "source": [
    "actual = []; pred = []\n",
    "\n",
    "for i in range(len(predictions1)):\n",
    "    actual.append(test[i])\n",
    "    pred.append(predictions1[i])\n",
    "\n",
    "df_res = pd.DataFrame({'actual':actual, 'predicted':pred})\n",
    "df_res['err'] = df_res.actual - df_res.predicted\n",
    "print(df_res)"
   ]
  },
  {
   "cell_type": "code",
   "execution_count": 41,
   "id": "02753bcf",
   "metadata": {},
   "outputs": [
    {
     "name": "stdout",
     "output_type": "stream",
     "text": [
      "ARMA Model. Order=(4,2)\n",
      "\tMSE = 5315.085481837146\n",
      "\tRMSE = 72.90463278720459\n"
     ]
    }
   ],
   "source": [
    "msg = 'ARMA Model. Order=(' + str(p) + ',' + str(q) + ')'\n",
    "mse1 = mean_squared_error(df_res.actual, df_res.predicted)\n",
    "print(msg + \"\\n\\tMSE = {}\\n\\tRMSE = {}\".format(mse1,np.sqrt(mse1)))"
   ]
  },
  {
   "cell_type": "code",
   "execution_count": 42,
   "id": "b56f40d3",
   "metadata": {},
   "outputs": [
    {
     "name": "stdout",
     "output_type": "stream",
     "text": [
      "Good model\n"
     ]
    }
   ],
   "source": [
    "pvalue = sm.stats.acorr_ljungbox(m1.resid,lags=[1],return_df=True)['lb_pvalue'].values\n",
    "if pvalue < 0.05:\n",
    "    print(\"Bad model\")\n",
    "else:\n",
    "    print(\"Good model\")"
   ]
  },
  {
   "cell_type": "code",
   "execution_count": 43,
   "id": "40a443e7",
   "metadata": {},
   "outputs": [
    {
     "data": {
      "text/plain": [
       "Text(0.5, 1.0, 'ARMA Model. Order=(4,2)')"
      ]
     },
     "execution_count": 43,
     "metadata": {},
     "output_type": "execute_result"
    },
    {
     "data": {
      "image/png": "[encoded data removed]",
      "text/plain": [
       "<Figure size 720x576 with 1 Axes>"
      ]
     },
     "metadata": {
      "needs_background": "light"
     },
     "output_type": "display_data"
    }
   ],
   "source": [
    "#actual vs pred\n",
    "df_res.actual.plot(figsize=(10,8),legend=True)\n",
    "df_res.predicted.plot(legend=True)\n",
    "plt.title(msg)"
   ]
  },
  {
   "cell_type": "code",
   "execution_count": 44,
   "id": "25476eb8",
   "metadata": {},
   "outputs": [
    {
     "data": {
      "text/plain": [
       "1989-07-01     89.792155\n",
       "1989-10-01     91.439147\n",
       "1990-01-01     92.857057\n",
       "1990-04-01     94.330168\n",
       "1990-07-01     95.594293\n",
       "1990-10-01     96.874026\n",
       "1991-01-01     97.995063\n",
       "1991-04-01     99.115793\n",
       "1991-07-01    100.106825\n",
       "1991-10-01    101.088505\n",
       "1992-01-01    101.964449\n",
       "1992-04-01    102.824818\n",
       "1992-07-01    103.598442\n",
       "1992-10-01    104.352969\n",
       "1993-01-01    105.035822\n",
       "1993-04-01    105.697853\n",
       "1993-07-01    106.300289\n",
       "1993-10-01    106.881409\n",
       "1994-01-01    107.412680\n",
       "1994-04-01    107.922962\n",
       "1994-07-01    108.391309\n",
       "1994-10-01    108.839525\n",
       "1995-01-01    109.252281\n",
       "1995-04-01    109.646083\n",
       "1995-07-01    110.009754\n",
       "1995-10-01    110.355825\n",
       "1996-01-01    110.676181\n",
       "1996-04-01    110.980363\n",
       "1996-07-01    111.262514\n",
       "1996-10-01    111.529920\n",
       "1997-01-01    111.778384\n",
       "1997-04-01    112.013492\n",
       "1997-07-01    112.232264\n",
       "1997-10-01    112.438999\n",
       "1998-01-01    112.631606\n",
       "1998-04-01    112.813410\n",
       "1998-07-01    112.982966\n",
       "1998-10-01    113.142858\n",
       "1999-01-01    113.292110\n",
       "1999-04-01    113.432742\n",
       "1999-07-01    113.564113\n",
       "1999-10-01    113.687811\n",
       "2000-01-01    113.803437\n",
       "2000-04-01    113.912247\n",
       "2000-07-01    114.014010\n",
       "2000-10-01    114.109727\n",
       "2001-01-01    114.199286\n",
       "2001-04-01    114.283488\n",
       "2001-07-01    114.362304\n",
       "2001-10-01    114.436379\n",
       "2002-01-01    114.505739\n",
       "Freq: QS-OCT, Name: predicted_mean, dtype: float64"
      ]
     },
     "execution_count": 44,
     "metadata": {},
     "output_type": "execute_result"
    }
   ],
   "source": [
    "#forecasts\n",
    "forecast1 = m1.forecast(len(test))\n",
    "forecast1"
   ]
  },
  {
   "cell_type": "code",
   "execution_count": 45,
   "id": "029d1bb4",
   "metadata": {},
   "outputs": [
    {
     "name": "stdout",
     "output_type": "stream",
     "text": [
      "FCST RMSE: 9.441664502960908\n"
     ]
    },
    {
     "data": {
      "image/png": "[encoded data removed]",
      "text/plain": [
       "<Figure size 864x432 with 1 Axes>"
      ]
     },
     "metadata": {
      "needs_background": "light"
     },
     "output_type": "display_data"
    }
   ],
   "source": [
    "#actual vs forecasts\n",
    "plt.figure(figsize=(12,6))\n",
    "plt.plot(forecast1, 'r', label = 'Forecast')\n",
    "plt.plot(test, 'b', label='Actual')\n",
    "plt.xlabel('Day')\n",
    "plt.ylabel('Appliances')\n",
    "plt.legend()\n",
    "\n",
    "mse_F = mean_squared_error(test,forecast1)\n",
    "print('FCST RMSE: ' + str(np.sqrt(mse_F) ))"
   ]
  },
  {
   "cell_type": "markdown",
   "id": "79010101",
   "metadata": {},
   "source": [
    "### SARIMA"
   ]
  },
  {
   "cell_type": "markdown",
   "id": "23174d36",
   "metadata": {},
   "source": [
    "#### STATIONARITY FOR SARIMA"
   ]
  },
  {
   "cell_type": "code",
   "execution_count": 46,
   "id": "a0d1ac74",
   "metadata": {},
   "outputs": [
    {
     "data": {
      "text/plain": [
       "'Data is Stationary, Proceed to model building.'"
      ]
     },
     "execution_count": 46,
     "metadata": {},
     "output_type": "execute_result"
    }
   ],
   "source": [
    "stationarity(d_seasonal)"
   ]
  },
  {
   "cell_type": "markdown",
   "id": "0bcf4c63",
   "metadata": {},
   "source": [
    "#### ACF / PACF FOR SARIMA"
   ]
  },
  {
   "cell_type": "code",
   "execution_count": 47,
   "id": "ddc98f4f",
   "metadata": {},
   "outputs": [
    {
     "data": {
      "image/png": "[encoded data removed]",
      "text/plain": [
       "<Figure size 864x432 with 2 Axes>"
      ]
     },
     "metadata": {
      "needs_background": "light"
     },
     "output_type": "display_data"
    }
   ],
   "source": [
    "ROWS = 1; COLS = 2\n",
    "fig,ax = plt.subplots(ROWS,COLS,figsize=(12,6))\n",
    "\n",
    "plot_acf(d_seasonal, lags=20, ax=ax[0]);\n",
    "plt.title(\"Auto Correlation\")\n",
    "\n",
    "plot_pacf(d_seasonal, lags=20, ax=ax[1]);\n",
    "plt.title(\"Partial Auto Correlation\")\n",
    "\n",
    "plt.show()"
   ]
  },
  {
   "cell_type": "code",
   "execution_count": 48,
   "id": "dfef7be8",
   "metadata": {},
   "outputs": [],
   "source": [
    "#P = [0 - 23]\n",
    "#Q = [0 - 11]"
   ]
  },
  {
   "cell_type": "markdown",
   "id": "ccc55260",
   "metadata": {},
   "source": [
    "#### HYPERPARAMETERS TUNING FOR SARIMA"
   ]
  },
  {
   "cell_type": "code",
   "execution_count": 49,
   "id": "0258bcd9",
   "metadata": {},
   "outputs": [],
   "source": [
    "p_val = []\n",
    "q_val = []\n",
    "P_val = []\n",
    "Q_val = []\n",
    "mse_val = []\n",
    "rmse_val = []\n",
    "def SARIMA_checkmodel(p,q,P,Q):\n",
    "    P_val.append(P)\n",
    "    Q_val.append(Q)\n",
    "    p_val.append(p)\n",
    "    q_val.append(q)\n",
    "    model = SARIMAX(train, order=(p,1,q), seasonal_order=(P,1,Q,4)).fit()\n",
    "    f1=model.forecast(len(test))\n",
    "    actual = []; pred = []\n",
    "    for m in range(len(f1)):\n",
    "        actual.append(test[m])\n",
    "        pred.append(f1[m])\n",
    "    df_res = pd.DataFrame({'actual':actual, 'predicted':pred})\n",
    "    mse = mean_squared_error(df_res.actual,df_res.predicted)\n",
    "    rmse = np.sqrt(mse)\n",
    "    mse_val.append(mse)\n",
    "    rmse_val.append(rmse)\n",
    "    "
   ]
  },
  {
   "cell_type": "code",
   "execution_count": 50,
   "id": "dde31828",
   "metadata": {},
   "outputs": [],
   "source": [
    "P = [0,1,2,3]\n",
    "Q = [0,1,2]\n",
    "p = [0,1,2,3]\n",
    "q = [0,1,2]"
   ]
  },
  {
   "cell_type": "code",
   "execution_count": 51,
   "id": "691c5d6f",
   "metadata": {},
   "outputs": [],
   "source": [
    "for i in p:\n",
    "    for j in q:\n",
    "        for k in P:\n",
    "            for l in Q:\n",
    "                SARIMA_checkmodel(i,j,k,l)"
   ]
  },
  {
   "cell_type": "code",
   "execution_count": 52,
   "id": "b7b96cda",
   "metadata": {},
   "outputs": [],
   "source": [
    "df_eval = pd.DataFrame({'p':p_val,'q':q_val,'P':P_val,'Q':Q_val,'rmse':rmse_val})"
   ]
  },
  {
   "cell_type": "code",
   "execution_count": 53,
   "id": "58dff996",
   "metadata": {},
   "outputs": [
    {
     "data": {
      "text/html": [
       "<div>\n",
       "<style scoped>\n",
       "    .dataframe tbody tr th:only-of-type {\n",
       "        vertical-align: middle;\n",
       "    }\n",
       "\n",
       "    .dataframe tbody tr th {\n",
       "        vertical-align: top;\n",
       "    }\n",
       "\n",
       "    .dataframe thead th {\n",
       "        text-align: right;\n",
       "    }\n",
       "</style>\n",
       "<table border=\"1\" class=\"dataframe\">\n",
       "  <thead>\n",
       "    <tr style=\"text-align: right;\">\n",
       "      <th></th>\n",
       "      <th>p</th>\n",
       "      <th>q</th>\n",
       "      <th>P</th>\n",
       "      <th>Q</th>\n",
       "      <th>rmse</th>\n",
       "    </tr>\n",
       "  </thead>\n",
       "  <tbody>\n",
       "    <tr>\n",
       "      <th>7</th>\n",
       "      <td>0</td>\n",
       "      <td>0</td>\n",
       "      <td>2</td>\n",
       "      <td>1</td>\n",
       "      <td>3.729135</td>\n",
       "    </tr>\n",
       "    <tr>\n",
       "      <th>10</th>\n",
       "      <td>0</td>\n",
       "      <td>0</td>\n",
       "      <td>3</td>\n",
       "      <td>1</td>\n",
       "      <td>4.691897</td>\n",
       "    </tr>\n",
       "    <tr>\n",
       "      <th>11</th>\n",
       "      <td>0</td>\n",
       "      <td>0</td>\n",
       "      <td>3</td>\n",
       "      <td>2</td>\n",
       "      <td>4.797536</td>\n",
       "    </tr>\n",
       "    <tr>\n",
       "      <th>9</th>\n",
       "      <td>0</td>\n",
       "      <td>0</td>\n",
       "      <td>3</td>\n",
       "      <td>0</td>\n",
       "      <td>5.186621</td>\n",
       "    </tr>\n",
       "    <tr>\n",
       "      <th>6</th>\n",
       "      <td>0</td>\n",
       "      <td>0</td>\n",
       "      <td>2</td>\n",
       "      <td>0</td>\n",
       "      <td>5.376136</td>\n",
       "    </tr>\n",
       "    <tr>\n",
       "      <th>...</th>\n",
       "      <td>...</td>\n",
       "      <td>...</td>\n",
       "      <td>...</td>\n",
       "      <td>...</td>\n",
       "      <td>...</td>\n",
       "    </tr>\n",
       "    <tr>\n",
       "      <th>84</th>\n",
       "      <td>2</td>\n",
       "      <td>1</td>\n",
       "      <td>0</td>\n",
       "      <td>0</td>\n",
       "      <td>57.392990</td>\n",
       "    </tr>\n",
       "    <tr>\n",
       "      <th>75</th>\n",
       "      <td>2</td>\n",
       "      <td>0</td>\n",
       "      <td>1</td>\n",
       "      <td>0</td>\n",
       "      <td>57.447409</td>\n",
       "    </tr>\n",
       "    <tr>\n",
       "      <th>63</th>\n",
       "      <td>1</td>\n",
       "      <td>2</td>\n",
       "      <td>1</td>\n",
       "      <td>0</td>\n",
       "      <td>58.597621</td>\n",
       "    </tr>\n",
       "    <tr>\n",
       "      <th>51</th>\n",
       "      <td>1</td>\n",
       "      <td>1</td>\n",
       "      <td>1</td>\n",
       "      <td>0</td>\n",
       "      <td>60.214230</td>\n",
       "    </tr>\n",
       "    <tr>\n",
       "      <th>39</th>\n",
       "      <td>1</td>\n",
       "      <td>0</td>\n",
       "      <td>1</td>\n",
       "      <td>0</td>\n",
       "      <td>64.876173</td>\n",
       "    </tr>\n",
       "  </tbody>\n",
       "</table>\n",
       "<p>144 rows × 5 columns</p>\n",
       "</div>"
      ],
      "text/plain": [
       "    p  q  P  Q       rmse\n",
       "7   0  0  2  1   3.729135\n",
       "10  0  0  3  1   4.691897\n",
       "11  0  0  3  2   4.797536\n",
       "9   0  0  3  0   5.186621\n",
       "6   0  0  2  0   5.376136\n",
       ".. .. .. .. ..        ...\n",
       "84  2  1  0  0  57.392990\n",
       "75  2  0  1  0  57.447409\n",
       "63  1  2  1  0  58.597621\n",
       "51  1  1  1  0  60.214230\n",
       "39  1  0  1  0  64.876173\n",
       "\n",
       "[144 rows x 5 columns]"
      ]
     },
     "execution_count": 53,
     "metadata": {},
     "output_type": "execute_result"
    }
   ],
   "source": [
    "df_eval.sort_values(by='rmse',ascending=True)"
   ]
  },
  {
   "cell_type": "code",
   "execution_count": 54,
   "id": "cab4629e",
   "metadata": {},
   "outputs": [],
   "source": [
    "p = 3\n",
    "d = 1\n",
    "q = 2\n",
    "P = 4\n",
    "D = 0\n",
    "Q = 6"
   ]
  },
  {
   "cell_type": "code",
   "execution_count": 55,
   "id": "97c2a60e",
   "metadata": {},
   "outputs": [],
   "source": [
    "#building the model\n",
    "sm1 = SARIMAX(train, order=(p,d,q), seasonal_order=(P,D,Q,4)).fit()"
   ]
  },
  {
   "cell_type": "code",
   "execution_count": 56,
   "id": "4178f8db",
   "metadata": {},
   "outputs": [
    {
     "data": {
      "text/html": [
       "<table class=\"simpletable\">\n",
       "<caption>SARIMAX Results</caption>\n",
       "<tr>\n",
       "  <th>Dep. Variable:</th>                          <td>y</td>                       <th>  No. Observations:  </th>   <td>118</td>  \n",
       "</tr>\n",
       "<tr>\n",
       "  <th>Model:</th>           <td>SARIMAX(3, 1, 2)x(4, 0, [1, 2, 3, 4, 5, 6], 4)</td> <th>  Log Likelihood     </th> <td>-42.780</td>\n",
       "</tr>\n",
       "<tr>\n",
       "  <th>Date:</th>                           <td>Tue, 11 Oct 2022</td>                <th>  AIC                </th> <td>117.560</td>\n",
       "</tr>\n",
       "<tr>\n",
       "  <th>Time:</th>                               <td>11:31:20</td>                    <th>  BIC                </th> <td>161.755</td>\n",
       "</tr>\n",
       "<tr>\n",
       "  <th>Sample:</th>                            <td>01-01-1960</td>                   <th>  HQIC               </th> <td>135.502</td>\n",
       "</tr>\n",
       "<tr>\n",
       "  <th></th>                                  <td>- 04-01-1989</td>                  <th>                     </th>    <td> </td>   \n",
       "</tr>\n",
       "<tr>\n",
       "  <th>Covariance Type:</th>                       <td>opg</td>                      <th>                     </th>    <td> </td>   \n",
       "</tr>\n",
       "</table>\n",
       "<table class=\"simpletable\">\n",
       "<tr>\n",
       "      <td></td>        <th>coef</th>     <th>std err</th>      <th>z</th>      <th>P>|z|</th>  <th>[0.025</th>    <th>0.975]</th>  \n",
       "</tr>\n",
       "<tr>\n",
       "  <th>ar.L1</th>    <td>    1.1898</td> <td>    0.354</td> <td>    3.365</td> <td> 0.001</td> <td>    0.497</td> <td>    1.883</td>\n",
       "</tr>\n",
       "<tr>\n",
       "  <th>ar.L2</th>    <td>   -0.7770</td> <td>    0.507</td> <td>   -1.531</td> <td> 0.126</td> <td>   -1.772</td> <td>    0.218</td>\n",
       "</tr>\n",
       "<tr>\n",
       "  <th>ar.L3</th>    <td>    0.3748</td> <td>    0.298</td> <td>    1.259</td> <td> 0.208</td> <td>   -0.209</td> <td>    0.958</td>\n",
       "</tr>\n",
       "<tr>\n",
       "  <th>ma.L1</th>    <td>   -0.3250</td> <td>    0.337</td> <td>   -0.964</td> <td> 0.335</td> <td>   -0.986</td> <td>    0.336</td>\n",
       "</tr>\n",
       "<tr>\n",
       "  <th>ma.L2</th>    <td>    0.6275</td> <td>    0.326</td> <td>    1.922</td> <td> 0.055</td> <td>   -0.012</td> <td>    1.267</td>\n",
       "</tr>\n",
       "<tr>\n",
       "  <th>ar.S.L4</th>  <td>    0.3155</td> <td>    0.519</td> <td>    0.608</td> <td> 0.543</td> <td>   -0.702</td> <td>    1.333</td>\n",
       "</tr>\n",
       "<tr>\n",
       "  <th>ar.S.L8</th>  <td>   -0.1093</td> <td>    0.491</td> <td>   -0.222</td> <td> 0.824</td> <td>   -1.072</td> <td>    0.854</td>\n",
       "</tr>\n",
       "<tr>\n",
       "  <th>ar.S.L12</th> <td>    0.0820</td> <td>    0.412</td> <td>    0.199</td> <td> 0.842</td> <td>   -0.725</td> <td>    0.889</td>\n",
       "</tr>\n",
       "<tr>\n",
       "  <th>ar.S.L16</th> <td>    0.6496</td> <td>    0.554</td> <td>    1.172</td> <td> 0.241</td> <td>   -0.437</td> <td>    1.736</td>\n",
       "</tr>\n",
       "<tr>\n",
       "  <th>ma.S.L4</th>  <td>    0.3154</td> <td>    1.542</td> <td>    0.205</td> <td> 0.838</td> <td>   -2.707</td> <td>    3.338</td>\n",
       "</tr>\n",
       "<tr>\n",
       "  <th>ma.S.L8</th>  <td>    0.0959</td> <td>   25.110</td> <td>    0.004</td> <td> 0.997</td> <td>  -49.120</td> <td>   49.312</td>\n",
       "</tr>\n",
       "<tr>\n",
       "  <th>ma.S.L12</th> <td>   -0.0054</td> <td>   12.997</td> <td>   -0.000</td> <td> 1.000</td> <td>  -25.479</td> <td>   25.469</td>\n",
       "</tr>\n",
       "<tr>\n",
       "  <th>ma.S.L16</th> <td>   -0.6538</td> <td>   20.904</td> <td>   -0.031</td> <td> 0.975</td> <td>  -41.625</td> <td>   40.318</td>\n",
       "</tr>\n",
       "<tr>\n",
       "  <th>ma.S.L20</th> <td>   -0.5731</td> <td>   14.574</td> <td>   -0.039</td> <td> 0.969</td> <td>  -29.138</td> <td>   27.992</td>\n",
       "</tr>\n",
       "<tr>\n",
       "  <th>ma.S.L24</th> <td>    0.1195</td> <td>    2.947</td> <td>    0.041</td> <td> 0.968</td> <td>   -5.657</td> <td>    5.896</td>\n",
       "</tr>\n",
       "<tr>\n",
       "  <th>sigma2</th>   <td>    0.1097</td> <td>    2.783</td> <td>    0.039</td> <td> 0.969</td> <td>   -5.345</td> <td>    5.564</td>\n",
       "</tr>\n",
       "</table>\n",
       "<table class=\"simpletable\">\n",
       "<tr>\n",
       "  <th>Ljung-Box (L1) (Q):</th>     <td>0.01</td>  <th>  Jarque-Bera (JB):  </th> <td>31.62</td>\n",
       "</tr>\n",
       "<tr>\n",
       "  <th>Prob(Q):</th>                <td>0.93</td>  <th>  Prob(JB):          </th> <td>0.00</td> \n",
       "</tr>\n",
       "<tr>\n",
       "  <th>Heteroskedasticity (H):</th> <td>20.79</td> <th>  Skew:              </th> <td>0.12</td> \n",
       "</tr>\n",
       "<tr>\n",
       "  <th>Prob(H) (two-sided):</th>    <td>0.00</td>  <th>  Kurtosis:          </th> <td>5.54</td> \n",
       "</tr>\n",
       "</table><br/><br/>Warnings:<br/>[1] Covariance matrix calculated using the outer product of gradients (complex-step)."
      ],
      "text/plain": [
       "<class 'statsmodels.iolib.summary.Summary'>\n",
       "\"\"\"\n",
       "                                             SARIMAX Results                                              \n",
       "==========================================================================================================\n",
       "Dep. Variable:                                                  y   No. Observations:                  118\n",
       "Model:             SARIMAX(3, 1, 2)x(4, 0, [1, 2, 3, 4, 5, 6], 4)   Log Likelihood                 -42.780\n",
       "Date:                                            Tue, 11 Oct 2022   AIC                            117.560\n",
       "Time:                                                    11:31:20   BIC                            161.755\n",
       "Sample:                                                01-01-1960   HQIC                           135.502\n",
       "                                                     - 04-01-1989                                         \n",
       "Covariance Type:                                              opg                                         \n",
       "==============================================================================\n",
       "                 coef    std err          z      P>|z|      [0.025      0.975]\n",
       "------------------------------------------------------------------------------\n",
       "ar.L1          1.1898      0.354      3.365      0.001       0.497       1.883\n",
       "ar.L2         -0.7770      0.507     -1.531      0.126      -1.772       0.218\n",
       "ar.L3          0.3748      0.298      1.259      0.208      -0.209       0.958\n",
       "ma.L1         -0.3250      0.337     -0.964      0.335      -0.986       0.336\n",
       "ma.L2          0.6275      0.326      1.922      0.055      -0.012       1.267\n",
       "ar.S.L4        0.3155      0.519      0.608      0.543      -0.702       1.333\n",
       "ar.S.L8       -0.1093      0.491     -0.222      0.824      -1.072       0.854\n",
       "ar.S.L12       0.0820      0.412      0.199      0.842      -0.725       0.889\n",
       "ar.S.L16       0.6496      0.554      1.172      0.241      -0.437       1.736\n",
       "ma.S.L4        0.3154      1.542      0.205      0.838      -2.707       3.338\n",
       "ma.S.L8        0.0959     25.110      0.004      0.997     -49.120      49.312\n",
       "ma.S.L12      -0.0054     12.997     -0.000      1.000     -25.479      25.469\n",
       "ma.S.L16      -0.6538     20.904     -0.031      0.975     -41.625      40.318\n",
       "ma.S.L20      -0.5731     14.574     -0.039      0.969     -29.138      27.992\n",
       "ma.S.L24       0.1195      2.947      0.041      0.968      -5.657       5.896\n",
       "sigma2         0.1097      2.783      0.039      0.969      -5.345       5.564\n",
       "===================================================================================\n",
       "Ljung-Box (L1) (Q):                   0.01   Jarque-Bera (JB):                31.62\n",
       "Prob(Q):                              0.93   Prob(JB):                         0.00\n",
       "Heteroskedasticity (H):              20.79   Skew:                             0.12\n",
       "Prob(H) (two-sided):                  0.00   Kurtosis:                         5.54\n",
       "===================================================================================\n",
       "\n",
       "Warnings:\n",
       "[1] Covariance matrix calculated using the outer product of gradients (complex-step).\n",
       "\"\"\""
      ]
     },
     "execution_count": 56,
     "metadata": {},
     "output_type": "execute_result"
    }
   ],
   "source": [
    "sm1.summary()"
   ]
  },
  {
   "cell_type": "code",
   "execution_count": 57,
   "id": "94357ce5",
   "metadata": {},
   "outputs": [
    {
     "data": {
      "text/plain": [
       "1989-07-01     89.616010\n",
       "1989-10-01     91.109572\n",
       "1990-01-01     92.550827\n",
       "1990-04-01     94.326398\n",
       "1990-07-01     95.850133\n",
       "1990-10-01     97.124089\n",
       "1991-01-01     98.283084\n",
       "1991-04-01     99.302466\n",
       "1991-07-01    100.346059\n",
       "1991-10-01    101.136805\n",
       "1992-01-01    102.050905\n",
       "1992-04-01    102.765362\n",
       "1992-07-01    103.157373\n",
       "1992-10-01    103.367919\n",
       "1993-01-01    103.577607\n",
       "1993-04-01    103.757928\n",
       "1993-07-01    103.949911\n",
       "1993-10-01    104.304153\n",
       "1994-01-01    104.958840\n",
       "1994-04-01    105.458019\n",
       "1994-07-01    105.983050\n",
       "1994-10-01    106.407155\n",
       "1995-01-01    106.894401\n",
       "1995-04-01    107.459019\n",
       "1995-07-01    108.108771\n",
       "1995-10-01    108.585666\n",
       "1996-01-01    109.150496\n",
       "1996-04-01    109.639323\n",
       "1996-07-01    109.965943\n",
       "1996-10-01    110.167339\n",
       "1997-01-01    110.429082\n",
       "1997-04-01    110.635473\n",
       "1997-07-01    110.798275\n",
       "1997-10-01    111.044995\n",
       "1998-01-01    111.508066\n",
       "1998-04-01    111.872062\n",
       "1998-07-01    112.267137\n",
       "1998-10-01    112.625371\n",
       "1999-01-01    113.095952\n",
       "1999-04-01    113.587381\n",
       "1999-07-01    114.136924\n",
       "1999-10-01    114.544287\n",
       "2000-01-01    115.026491\n",
       "2000-04-01    115.472996\n",
       "2000-07-01    115.826156\n",
       "2000-10-01    116.064529\n",
       "2001-01-01    116.371589\n",
       "2001-04-01    116.621352\n",
       "2001-07-01    116.809811\n",
       "2001-10-01    117.029294\n",
       "2002-01-01    117.412198\n",
       "Freq: QS-OCT, Name: predicted_mean, dtype: float64"
      ]
     },
     "execution_count": 57,
     "metadata": {},
     "output_type": "execute_result"
    }
   ],
   "source": [
    "#forecasts\n",
    "forecast2 = sm1.forecast(len(test))\n",
    "forecast2"
   ]
  },
  {
   "cell_type": "code",
   "execution_count": 58,
   "id": "ac71db0f",
   "metadata": {},
   "outputs": [
    {
     "name": "stdout",
     "output_type": "stream",
     "text": [
      "RMSE: 8.957260947967386\n"
     ]
    },
    {
     "data": {
      "image/png": "[encoded data removed]",
      "text/plain": [
       "<Figure size 720x360 with 1 Axes>"
      ]
     },
     "metadata": {
      "needs_background": "light"
     },
     "output_type": "display_data"
    }
   ],
   "source": [
    "#actual vs forecasts\n",
    "plt.figure(figsize=(10,5))\n",
    "plt.plot(forecast2, 'r', label = 'Predictions')\n",
    "plt.plot(test, 'b', label='Actual')\n",
    "plt.xlabel('Day')\n",
    "plt.ylabel('Appliances')\n",
    "plt.legend()\n",
    "\n",
    "mse1 = mean_squared_error(test,forecast2)\n",
    "print('RMSE: ' + str(np.sqrt(mse1) ))"
   ]
  },
  {
   "cell_type": "markdown",
   "id": "380e2052",
   "metadata": {},
   "source": [
    "### SARIMAX"
   ]
  },
  {
   "cell_type": "code",
   "execution_count": 59,
   "id": "d345e715",
   "metadata": {},
   "outputs": [
    {
     "data": {
      "text/html": [
       "<style type=\"text/css\">\n",
       "#T_1ec8f_row0_col0, #T_1ec8f_row1_col1, #T_1ec8f_row1_col9, #T_1ec8f_row2_col2, #T_1ec8f_row3_col3, #T_1ec8f_row4_col4, #T_1ec8f_row5_col5, #T_1ec8f_row6_col6, #T_1ec8f_row7_col7, #T_1ec8f_row8_col8, #T_1ec8f_row9_col1, #T_1ec8f_row9_col9, #T_1ec8f_row10_col10 {\n",
       "  background-color: #000000;\n",
       "  color: #f1f1f1;\n",
       "}\n",
       "#T_1ec8f_row0_col1, #T_1ec8f_row3_col6, #T_1ec8f_row8_col7 {\n",
       "  background-color: #141414;\n",
       "  color: #f1f1f1;\n",
       "}\n",
       "#T_1ec8f_row0_col2, #T_1ec8f_row10_col4 {\n",
       "  background-color: #070707;\n",
       "  color: #f1f1f1;\n",
       "}\n",
       "#T_1ec8f_row0_col3, #T_1ec8f_row1_col10, #T_1ec8f_row3_col0, #T_1ec8f_row9_col10, #T_1ec8f_row10_col1, #T_1ec8f_row10_col9 {\n",
       "  background-color: #050505;\n",
       "  color: #f1f1f1;\n",
       "}\n",
       "#T_1ec8f_row0_col4, #T_1ec8f_row4_col0, #T_1ec8f_row5_col10, #T_1ec8f_row6_col10, #T_1ec8f_row10_col5, #T_1ec8f_row10_col6 {\n",
       "  background-color: #090909;\n",
       "  color: #f1f1f1;\n",
       "}\n",
       "#T_1ec8f_row0_col5 {\n",
       "  background-color: #202020;\n",
       "  color: #f1f1f1;\n",
       "}\n",
       "#T_1ec8f_row0_col6 {\n",
       "  background-color: #222222;\n",
       "  color: #f1f1f1;\n",
       "}\n",
       "#T_1ec8f_row0_col7, #T_1ec8f_row0_col8, #T_1ec8f_row8_col0, #T_1ec8f_row8_col1, #T_1ec8f_row8_col2, #T_1ec8f_row8_col3, #T_1ec8f_row8_col4, #T_1ec8f_row8_col5, #T_1ec8f_row8_col6, #T_1ec8f_row8_col9, #T_1ec8f_row8_col10 {\n",
       "  background-color: #ffffff;\n",
       "  color: #000000;\n",
       "}\n",
       "#T_1ec8f_row0_col9, #T_1ec8f_row1_col0, #T_1ec8f_row5_col6, #T_1ec8f_row6_col5, #T_1ec8f_row7_col8 {\n",
       "  background-color: #121212;\n",
       "  color: #f1f1f1;\n",
       "}\n",
       "#T_1ec8f_row0_col10, #T_1ec8f_row2_col5, #T_1ec8f_row2_col6, #T_1ec8f_row4_col1, #T_1ec8f_row5_col3 {\n",
       "  background-color: #0d0d0d;\n",
       "  color: #f1f1f1;\n",
       "}\n",
       "#T_1ec8f_row1_col2, #T_1ec8f_row2_col1, #T_1ec8f_row2_col9, #T_1ec8f_row9_col2 {\n",
       "  background-color: #040404;\n",
       "  color: #f1f1f1;\n",
       "}\n",
       "#T_1ec8f_row1_col3, #T_1ec8f_row3_col1, #T_1ec8f_row3_col9, #T_1ec8f_row4_col5, #T_1ec8f_row6_col2, #T_1ec8f_row9_col3 {\n",
       "  background-color: #0b0b0b;\n",
       "  color: #f1f1f1;\n",
       "}\n",
       "#T_1ec8f_row1_col4, #T_1ec8f_row4_col9, #T_1ec8f_row5_col2, #T_1ec8f_row9_col4, #T_1ec8f_row10_col0 {\n",
       "  background-color: #0c0c0c;\n",
       "  color: #f1f1f1;\n",
       "}\n",
       "#T_1ec8f_row1_col5, #T_1ec8f_row5_col9 {\n",
       "  background-color: #0f0f0f;\n",
       "  color: #f1f1f1;\n",
       "}\n",
       "#T_1ec8f_row1_col6, #T_1ec8f_row3_col10, #T_1ec8f_row6_col1, #T_1ec8f_row6_col9, #T_1ec8f_row10_col3 {\n",
       "  background-color: #020202;\n",
       "  color: #f1f1f1;\n",
       "}\n",
       "#T_1ec8f_row1_col7 {\n",
       "  background-color: #dedede;\n",
       "  color: #000000;\n",
       "}\n",
       "#T_1ec8f_row1_col8, #T_1ec8f_row3_col7, #T_1ec8f_row3_col8 {\n",
       "  background-color: #e8e8e8;\n",
       "  color: #000000;\n",
       "}\n",
       "#T_1ec8f_row2_col0, #T_1ec8f_row3_col4, #T_1ec8f_row4_col3 {\n",
       "  background-color: #060606;\n",
       "  color: #f1f1f1;\n",
       "}\n",
       "#T_1ec8f_row2_col3, #T_1ec8f_row2_col4, #T_1ec8f_row2_col10, #T_1ec8f_row3_col2, #T_1ec8f_row4_col2, #T_1ec8f_row9_col6, #T_1ec8f_row10_col2 {\n",
       "  background-color: #030303;\n",
       "  color: #f1f1f1;\n",
       "}\n",
       "#T_1ec8f_row2_col7 {\n",
       "  background-color: #efefef;\n",
       "  color: #000000;\n",
       "}\n",
       "#T_1ec8f_row2_col8 {\n",
       "  background-color: #f5f5f5;\n",
       "  color: #000000;\n",
       "}\n",
       "#T_1ec8f_row3_col5, #T_1ec8f_row5_col1 {\n",
       "  background-color: #0e0e0e;\n",
       "  color: #f1f1f1;\n",
       "}\n",
       "#T_1ec8f_row4_col6 {\n",
       "  background-color: #191919;\n",
       "  color: #f1f1f1;\n",
       "}\n",
       "#T_1ec8f_row4_col7 {\n",
       "  background-color: #f3f3f3;\n",
       "  color: #000000;\n",
       "}\n",
       "#T_1ec8f_row4_col8 {\n",
       "  background-color: #f6f6f6;\n",
       "  color: #000000;\n",
       "}\n",
       "#T_1ec8f_row4_col10 {\n",
       "  background-color: #080808;\n",
       "  color: #f1f1f1;\n",
       "}\n",
       "#T_1ec8f_row5_col0 {\n",
       "  background-color: #1b1b1b;\n",
       "  color: #f1f1f1;\n",
       "}\n",
       "#T_1ec8f_row5_col4 {\n",
       "  background-color: #0a0a0a;\n",
       "  color: #f1f1f1;\n",
       "}\n",
       "#T_1ec8f_row5_col7 {\n",
       "  background-color: #d7d7d7;\n",
       "  color: #000000;\n",
       "}\n",
       "#T_1ec8f_row5_col8, #T_1ec8f_row6_col8, #T_1ec8f_row7_col1 {\n",
       "  background-color: #d9d9d9;\n",
       "  color: #000000;\n",
       "}\n",
       "#T_1ec8f_row6_col0 {\n",
       "  background-color: #1d1d1d;\n",
       "  color: #f1f1f1;\n",
       "}\n",
       "#T_1ec8f_row6_col3 {\n",
       "  background-color: #131313;\n",
       "  color: #f1f1f1;\n",
       "}\n",
       "#T_1ec8f_row6_col4 {\n",
       "  background-color: #161616;\n",
       "  color: #f1f1f1;\n",
       "}\n",
       "#T_1ec8f_row6_col7 {\n",
       "  background-color: #d1d1d1;\n",
       "  color: #000000;\n",
       "}\n",
       "#T_1ec8f_row7_col0, #T_1ec8f_row7_col3, #T_1ec8f_row10_col7 {\n",
       "  background-color: #e2e2e2;\n",
       "  color: #000000;\n",
       "}\n",
       "#T_1ec8f_row7_col2 {\n",
       "  background-color: #dddddd;\n",
       "  color: #000000;\n",
       "}\n",
       "#T_1ec8f_row7_col4 {\n",
       "  background-color: #dfdfdf;\n",
       "  color: #000000;\n",
       "}\n",
       "#T_1ec8f_row7_col5, #T_1ec8f_row7_col10 {\n",
       "  background-color: #e1e1e1;\n",
       "  color: #000000;\n",
       "}\n",
       "#T_1ec8f_row7_col6, #T_1ec8f_row7_col9 {\n",
       "  background-color: #dadada;\n",
       "  color: #000000;\n",
       "}\n",
       "#T_1ec8f_row9_col0 {\n",
       "  background-color: #111111;\n",
       "  color: #f1f1f1;\n",
       "}\n",
       "#T_1ec8f_row9_col5 {\n",
       "  background-color: #101010;\n",
       "  color: #f1f1f1;\n",
       "}\n",
       "#T_1ec8f_row9_col7 {\n",
       "  background-color: #e5e5e5;\n",
       "  color: #000000;\n",
       "}\n",
       "#T_1ec8f_row9_col8 {\n",
       "  background-color: #ededed;\n",
       "  color: #000000;\n",
       "}\n",
       "#T_1ec8f_row10_col8 {\n",
       "  background-color: #e3e3e3;\n",
       "  color: #000000;\n",
       "}\n",
       "</style>\n",
       "<table id=\"T_1ec8f\">\n",
       "  <thead>\n",
       "    <tr>\n",
       "      <th class=\"blank level0\" >&nbsp;</th>\n",
       "      <th id=\"T_1ec8f_level0_col0\" class=\"col_heading level0 col0\" >m3</th>\n",
       "      <th id=\"T_1ec8f_level0_col1\" class=\"col_heading level0 col1\" >ppi</th>\n",
       "      <th id=\"T_1ec8f_level0_col2\" class=\"col_heading level0 col2\" >cpi</th>\n",
       "      <th id=\"T_1ec8f_level0_col3\" class=\"col_heading level0 col3\" >gdp</th>\n",
       "      <th id=\"T_1ec8f_level0_col4\" class=\"col_heading level0 col4\" >m1nsa</th>\n",
       "      <th id=\"T_1ec8f_level0_col5\" class=\"col_heading level0 col5\" >ddnsa</th>\n",
       "      <th id=\"T_1ec8f_level0_col6\" class=\"col_heading level0 col6\" >lnppi</th>\n",
       "      <th id=\"T_1ec8f_level0_col7\" class=\"col_heading level0 col7\" >dppi</th>\n",
       "      <th id=\"T_1ec8f_level0_col8\" class=\"col_heading level0 col8\" >dlnppi</th>\n",
       "      <th id=\"T_1ec8f_level0_col9\" class=\"col_heading level0 col9\" >lppi</th>\n",
       "      <th id=\"T_1ec8f_level0_col10\" class=\"col_heading level0 col10\" >trend</th>\n",
       "    </tr>\n",
       "  </thead>\n",
       "  <tbody>\n",
       "    <tr>\n",
       "      <th id=\"T_1ec8f_level0_row0\" class=\"row_heading level0 row0\" >m3</th>\n",
       "      <td id=\"T_1ec8f_row0_col0\" class=\"data row0 col0\" >1.000000</td>\n",
       "      <td id=\"T_1ec8f_row0_col1\" class=\"data row0 col1\" >0.908680</td>\n",
       "      <td id=\"T_1ec8f_row0_col2\" class=\"data row0 col2\" >0.965519</td>\n",
       "      <td id=\"T_1ec8f_row0_col3\" class=\"data row0 col3\" >0.973118</td>\n",
       "      <td id=\"T_1ec8f_row0_col4\" class=\"data row0 col4\" >0.952169</td>\n",
       "      <td id=\"T_1ec8f_row0_col5\" class=\"data row0 col5\" >0.859869</td>\n",
       "      <td id=\"T_1ec8f_row0_col6\" class=\"data row0 col6\" >0.851775</td>\n",
       "      <td id=\"T_1ec8f_row0_col7\" class=\"data row0 col7\" >-0.139791</td>\n",
       "      <td id=\"T_1ec8f_row0_col8\" class=\"data row0 col8\" >-0.286648</td>\n",
       "      <td id=\"T_1ec8f_row0_col9\" class=\"data row0 col9\" >0.912245</td>\n",
       "      <td id=\"T_1ec8f_row0_col10\" class=\"data row0 col10\" >0.938218</td>\n",
       "    </tr>\n",
       "    <tr>\n",
       "      <th id=\"T_1ec8f_level0_row1\" class=\"row_heading level0 row1\" >ppi</th>\n",
       "      <td id=\"T_1ec8f_row1_col0\" class=\"data row1 col0\" >0.908680</td>\n",
       "      <td id=\"T_1ec8f_row1_col1\" class=\"data row1 col1\" >1.000000</td>\n",
       "      <td id=\"T_1ec8f_row1_col2\" class=\"data row1 col2\" >0.978875</td>\n",
       "      <td id=\"T_1ec8f_row1_col3\" class=\"data row1 col3\" >0.945554</td>\n",
       "      <td id=\"T_1ec8f_row1_col4\" class=\"data row1 col4\" >0.938540</td>\n",
       "      <td id=\"T_1ec8f_row1_col5\" class=\"data row1 col5\" >0.932022</td>\n",
       "      <td id=\"T_1ec8f_row1_col6\" class=\"data row1 col6\" >0.988590</td>\n",
       "      <td id=\"T_1ec8f_row1_col7\" class=\"data row1 col7\" >0.010486</td>\n",
       "      <td id=\"T_1ec8f_row1_col8\" class=\"data row1 col8\" >-0.166041</td>\n",
       "      <td id=\"T_1ec8f_row1_col9\" class=\"data row1 col9\" >0.999535</td>\n",
       "      <td id=\"T_1ec8f_row1_col10\" class=\"data row1 col10\" >0.974382</td>\n",
       "    </tr>\n",
       "    <tr>\n",
       "      <th id=\"T_1ec8f_level0_row2\" class=\"row_heading level0 row2\" >cpi</th>\n",
       "      <td id=\"T_1ec8f_row2_col0\" class=\"data row2 col0\" >0.965519</td>\n",
       "      <td id=\"T_1ec8f_row2_col1\" class=\"data row2 col1\" >0.978875</td>\n",
       "      <td id=\"T_1ec8f_row2_col2\" class=\"data row2 col2\" >1.000000</td>\n",
       "      <td id=\"T_1ec8f_row2_col3\" class=\"data row2 col3\" >0.982431</td>\n",
       "      <td id=\"T_1ec8f_row2_col4\" class=\"data row2 col4\" >0.983137</td>\n",
       "      <td id=\"T_1ec8f_row2_col5\" class=\"data row2 col5\" >0.941614</td>\n",
       "      <td id=\"T_1ec8f_row2_col6\" class=\"data row2 col6\" >0.943322</td>\n",
       "      <td id=\"T_1ec8f_row2_col7\" class=\"data row2 col7\" >-0.066371</td>\n",
       "      <td id=\"T_1ec8f_row2_col8\" class=\"data row2 col8\" >-0.231425</td>\n",
       "      <td id=\"T_1ec8f_row2_col9\" class=\"data row2 col9\" >0.980587</td>\n",
       "      <td id=\"T_1ec8f_row2_col10\" class=\"data row2 col10\" >0.984004</td>\n",
       "    </tr>\n",
       "    <tr>\n",
       "      <th id=\"T_1ec8f_level0_row3\" class=\"row_heading level0 row3\" >gdp</th>\n",
       "      <td id=\"T_1ec8f_row3_col0\" class=\"data row3 col0\" >0.973118</td>\n",
       "      <td id=\"T_1ec8f_row3_col1\" class=\"data row3 col1\" >0.945554</td>\n",
       "      <td id=\"T_1ec8f_row3_col2\" class=\"data row3 col2\" >0.982431</td>\n",
       "      <td id=\"T_1ec8f_row3_col3\" class=\"data row3 col3\" >1.000000</td>\n",
       "      <td id=\"T_1ec8f_row3_col4\" class=\"data row3 col4\" >0.969191</td>\n",
       "      <td id=\"T_1ec8f_row3_col5\" class=\"data row3 col5\" >0.938475</td>\n",
       "      <td id=\"T_1ec8f_row3_col6\" class=\"data row3 col6\" >0.912259</td>\n",
       "      <td id=\"T_1ec8f_row3_col7\" class=\"data row3 col7\" >-0.035154</td>\n",
       "      <td id=\"T_1ec8f_row3_col8\" class=\"data row3 col8\" >-0.169153</td>\n",
       "      <td id=\"T_1ec8f_row3_col9\" class=\"data row3 col9\" >0.945939</td>\n",
       "      <td id=\"T_1ec8f_row3_col10\" class=\"data row3 col10\" >0.986910</td>\n",
       "    </tr>\n",
       "    <tr>\n",
       "      <th id=\"T_1ec8f_level0_row4\" class=\"row_heading level0 row4\" >m1nsa</th>\n",
       "      <td id=\"T_1ec8f_row4_col0\" class=\"data row4 col0\" >0.952169</td>\n",
       "      <td id=\"T_1ec8f_row4_col1\" class=\"data row4 col1\" >0.938540</td>\n",
       "      <td id=\"T_1ec8f_row4_col2\" class=\"data row4 col2\" >0.983137</td>\n",
       "      <td id=\"T_1ec8f_row4_col3\" class=\"data row4 col3\" >0.969191</td>\n",
       "      <td id=\"T_1ec8f_row4_col4\" class=\"data row4 col4\" >1.000000</td>\n",
       "      <td id=\"T_1ec8f_row4_col5\" class=\"data row4 col5\" >0.949034</td>\n",
       "      <td id=\"T_1ec8f_row4_col6\" class=\"data row4 col6\" >0.891667</td>\n",
       "      <td id=\"T_1ec8f_row4_col7\" class=\"data row4 col7\" >-0.083434</td>\n",
       "      <td id=\"T_1ec8f_row4_col8\" class=\"data row4 col8\" >-0.240096</td>\n",
       "      <td id=\"T_1ec8f_row4_col9\" class=\"data row4 col9\" >0.940512</td>\n",
       "      <td id=\"T_1ec8f_row4_col10\" class=\"data row4 col10\" >0.962064</td>\n",
       "    </tr>\n",
       "    <tr>\n",
       "      <th id=\"T_1ec8f_level0_row5\" class=\"row_heading level0 row5\" >ddnsa</th>\n",
       "      <td id=\"T_1ec8f_row5_col0\" class=\"data row5 col0\" >0.859869</td>\n",
       "      <td id=\"T_1ec8f_row5_col1\" class=\"data row5 col1\" >0.932022</td>\n",
       "      <td id=\"T_1ec8f_row5_col2\" class=\"data row5 col2\" >0.941614</td>\n",
       "      <td id=\"T_1ec8f_row5_col3\" class=\"data row5 col3\" >0.938475</td>\n",
       "      <td id=\"T_1ec8f_row5_col4\" class=\"data row5 col4\" >0.949034</td>\n",
       "      <td id=\"T_1ec8f_row5_col5\" class=\"data row5 col5\" >1.000000</td>\n",
       "      <td id=\"T_1ec8f_row5_col6\" class=\"data row5 col6\" >0.921963</td>\n",
       "      <td id=\"T_1ec8f_row5_col7\" class=\"data row5 col7\" >0.039020</td>\n",
       "      <td id=\"T_1ec8f_row5_col8\" class=\"data row5 col8\" >-0.091235</td>\n",
       "      <td id=\"T_1ec8f_row5_col9\" class=\"data row5 col9\" >0.930003</td>\n",
       "      <td id=\"T_1ec8f_row5_col10\" class=\"data row5 col10\" >0.959279</td>\n",
       "    </tr>\n",
       "    <tr>\n",
       "      <th id=\"T_1ec8f_level0_row6\" class=\"row_heading level0 row6\" >lnppi</th>\n",
       "      <td id=\"T_1ec8f_row6_col0\" class=\"data row6 col0\" >0.851775</td>\n",
       "      <td id=\"T_1ec8f_row6_col1\" class=\"data row6 col1\" >0.988590</td>\n",
       "      <td id=\"T_1ec8f_row6_col2\" class=\"data row6 col2\" >0.943322</td>\n",
       "      <td id=\"T_1ec8f_row6_col3\" class=\"data row6 col3\" >0.912259</td>\n",
       "      <td id=\"T_1ec8f_row6_col4\" class=\"data row6 col4\" >0.891667</td>\n",
       "      <td id=\"T_1ec8f_row6_col5\" class=\"data row6 col5\" >0.921963</td>\n",
       "      <td id=\"T_1ec8f_row6_col6\" class=\"data row6 col6\" >1.000000</td>\n",
       "      <td id=\"T_1ec8f_row6_col7\" class=\"data row6 col7\" >0.068175</td>\n",
       "      <td id=\"T_1ec8f_row6_col8\" class=\"data row6 col8\" >-0.093604</td>\n",
       "      <td id=\"T_1ec8f_row6_col9\" class=\"data row6 col9\" >0.986311</td>\n",
       "      <td id=\"T_1ec8f_row6_col10\" class=\"data row6 col10\" >0.958876</td>\n",
       "    </tr>\n",
       "    <tr>\n",
       "      <th id=\"T_1ec8f_level0_row7\" class=\"row_heading level0 row7\" >dppi</th>\n",
       "      <td id=\"T_1ec8f_row7_col0\" class=\"data row7 col0\" >-0.139791</td>\n",
       "      <td id=\"T_1ec8f_row7_col1\" class=\"data row7 col1\" >0.010486</td>\n",
       "      <td id=\"T_1ec8f_row7_col2\" class=\"data row7 col2\" >-0.066371</td>\n",
       "      <td id=\"T_1ec8f_row7_col3\" class=\"data row7 col3\" >-0.035154</td>\n",
       "      <td id=\"T_1ec8f_row7_col4\" class=\"data row7 col4\" >-0.083434</td>\n",
       "      <td id=\"T_1ec8f_row7_col5\" class=\"data row7 col5\" >0.039020</td>\n",
       "      <td id=\"T_1ec8f_row7_col6\" class=\"data row7 col6\" >0.068175</td>\n",
       "      <td id=\"T_1ec8f_row7_col7\" class=\"data row7 col7\" >1.000000</td>\n",
       "      <td id=\"T_1ec8f_row7_col8\" class=\"data row7 col8\" >0.906529</td>\n",
       "      <td id=\"T_1ec8f_row7_col9\" class=\"data row7 col9\" >-0.019996</td>\n",
       "      <td id=\"T_1ec8f_row7_col10\" class=\"data row7 col10\" >-0.006362</td>\n",
       "    </tr>\n",
       "    <tr>\n",
       "      <th id=\"T_1ec8f_level0_row8\" class=\"row_heading level0 row8\" >dlnppi</th>\n",
       "      <td id=\"T_1ec8f_row8_col0\" class=\"data row8 col0\" >-0.286648</td>\n",
       "      <td id=\"T_1ec8f_row8_col1\" class=\"data row8 col1\" >-0.166041</td>\n",
       "      <td id=\"T_1ec8f_row8_col2\" class=\"data row8 col2\" >-0.231425</td>\n",
       "      <td id=\"T_1ec8f_row8_col3\" class=\"data row8 col3\" >-0.169153</td>\n",
       "      <td id=\"T_1ec8f_row8_col4\" class=\"data row8 col4\" >-0.240096</td>\n",
       "      <td id=\"T_1ec8f_row8_col5\" class=\"data row8 col5\" >-0.091235</td>\n",
       "      <td id=\"T_1ec8f_row8_col6\" class=\"data row8 col6\" >-0.093604</td>\n",
       "      <td id=\"T_1ec8f_row8_col7\" class=\"data row8 col7\" >0.906529</td>\n",
       "      <td id=\"T_1ec8f_row8_col8\" class=\"data row8 col8\" >1.000000</td>\n",
       "      <td id=\"T_1ec8f_row8_col9\" class=\"data row8 col9\" >-0.193649</td>\n",
       "      <td id=\"T_1ec8f_row8_col10\" class=\"data row8 col10\" >-0.143578</td>\n",
       "    </tr>\n",
       "    <tr>\n",
       "      <th id=\"T_1ec8f_level0_row9\" class=\"row_heading level0 row9\" >lppi</th>\n",
       "      <td id=\"T_1ec8f_row9_col0\" class=\"data row9 col0\" >0.912245</td>\n",
       "      <td id=\"T_1ec8f_row9_col1\" class=\"data row9 col1\" >0.999535</td>\n",
       "      <td id=\"T_1ec8f_row9_col2\" class=\"data row9 col2\" >0.980587</td>\n",
       "      <td id=\"T_1ec8f_row9_col3\" class=\"data row9 col3\" >0.945939</td>\n",
       "      <td id=\"T_1ec8f_row9_col4\" class=\"data row9 col4\" >0.940512</td>\n",
       "      <td id=\"T_1ec8f_row9_col5\" class=\"data row9 col5\" >0.930003</td>\n",
       "      <td id=\"T_1ec8f_row9_col6\" class=\"data row9 col6\" >0.986311</td>\n",
       "      <td id=\"T_1ec8f_row9_col7\" class=\"data row9 col7\" >-0.019996</td>\n",
       "      <td id=\"T_1ec8f_row9_col8\" class=\"data row9 col8\" >-0.193649</td>\n",
       "      <td id=\"T_1ec8f_row9_col9\" class=\"data row9 col9\" >1.000000</td>\n",
       "      <td id=\"T_1ec8f_row9_col10\" class=\"data row9 col10\" >0.974614</td>\n",
       "    </tr>\n",
       "    <tr>\n",
       "      <th id=\"T_1ec8f_level0_row10\" class=\"row_heading level0 row10\" >trend</th>\n",
       "      <td id=\"T_1ec8f_row10_col0\" class=\"data row10 col0\" >0.938218</td>\n",
       "      <td id=\"T_1ec8f_row10_col1\" class=\"data row10 col1\" >0.974382</td>\n",
       "      <td id=\"T_1ec8f_row10_col2\" class=\"data row10 col2\" >0.984004</td>\n",
       "      <td id=\"T_1ec8f_row10_col3\" class=\"data row10 col3\" >0.986910</td>\n",
       "      <td id=\"T_1ec8f_row10_col4\" class=\"data row10 col4\" >0.962064</td>\n",
       "      <td id=\"T_1ec8f_row10_col5\" class=\"data row10 col5\" >0.959279</td>\n",
       "      <td id=\"T_1ec8f_row10_col6\" class=\"data row10 col6\" >0.958876</td>\n",
       "      <td id=\"T_1ec8f_row10_col7\" class=\"data row10 col7\" >-0.006362</td>\n",
       "      <td id=\"T_1ec8f_row10_col8\" class=\"data row10 col8\" >-0.143578</td>\n",
       "      <td id=\"T_1ec8f_row10_col9\" class=\"data row10 col9\" >0.974614</td>\n",
       "      <td id=\"T_1ec8f_row10_col10\" class=\"data row10 col10\" >1.000000</td>\n",
       "    </tr>\n",
       "  </tbody>\n",
       "</table>\n"
      ],
      "text/plain": [
       "<pandas.io.formats.style.Styler at 0x1ca3f4b8fd0>"
      ]
     },
     "execution_count": 59,
     "metadata": {},
     "output_type": "execute_result"
    }
   ],
   "source": [
    "# correlation chart\n",
    "df.corr().style.background_gradient(cmap=\"gist_gray_r\")"
   ]
  },
  {
   "cell_type": "code",
   "execution_count": 60,
   "id": "381e1c04",
   "metadata": {},
   "outputs": [
    {
     "name": "stdout",
     "output_type": "stream",
     "text": [
      "train = 118, test = 51\n"
     ]
    }
   ],
   "source": [
    "#splitting the data\n",
    "ss = int(0.70 * len(df))\n",
    "\n",
    "train_df = df.iloc[:ss]\n",
    "test_df = df.iloc[ss:]\n",
    "print(\"train = {}, test = {}\".format(len(train), len(test)))"
   ]
  },
  {
   "cell_type": "code",
   "execution_count": 61,
   "id": "754a7f18",
   "metadata": {},
   "outputs": [],
   "source": [
    "exog_train = train_df[['m3','cpi','gdp','m1nsa','ddnsa']]\n",
    "exog_test = test_df[['m3','cpi','gdp','m1nsa','ddnsa']]"
   ]
  },
  {
   "cell_type": "code",
   "execution_count": 62,
   "id": "53ba7498",
   "metadata": {},
   "outputs": [],
   "source": [
    "p = 3\n",
    "d = 1\n",
    "q = 2\n",
    "P = 4\n",
    "D = 0\n",
    "Q = 4"
   ]
  },
  {
   "cell_type": "code",
   "execution_count": 63,
   "id": "35a659fb",
   "metadata": {},
   "outputs": [],
   "source": [
    "#building the model\n",
    "sm2 = SARIMAX(train, order=(p,d,q), seasonal_order=(P,D,Q,4), exog = exog_train.values).fit()"
   ]
  },
  {
   "cell_type": "code",
   "execution_count": 64,
   "id": "1f76ba59",
   "metadata": {},
   "outputs": [
    {
     "data": {
      "text/html": [
       "<table class=\"simpletable\">\n",
       "<caption>SARIMAX Results</caption>\n",
       "<tr>\n",
       "  <th>Dep. Variable:</th>                       <td>y</td>                    <th>  No. Observations:  </th>   <td>118</td>  \n",
       "</tr>\n",
       "<tr>\n",
       "  <th>Model:</th>           <td>SARIMAX(3, 1, 2)x(4, 0, [1, 2, 3, 4], 4)</td> <th>  Log Likelihood     </th> <td>-58.605</td>\n",
       "</tr>\n",
       "<tr>\n",
       "  <th>Date:</th>                        <td>Tue, 11 Oct 2022</td>             <th>  AIC                </th> <td>155.211</td>\n",
       "</tr>\n",
       "<tr>\n",
       "  <th>Time:</th>                            <td>11:31:21</td>                 <th>  BIC                </th> <td>207.692</td>\n",
       "</tr>\n",
       "<tr>\n",
       "  <th>Sample:</th>                         <td>01-01-1960</td>                <th>  HQIC               </th> <td>176.517</td>\n",
       "</tr>\n",
       "<tr>\n",
       "  <th></th>                               <td>- 04-01-1989</td>               <th>                     </th>    <td> </td>   \n",
       "</tr>\n",
       "<tr>\n",
       "  <th>Covariance Type:</th>                    <td>opg</td>                   <th>                     </th>    <td> </td>   \n",
       "</tr>\n",
       "</table>\n",
       "<table class=\"simpletable\">\n",
       "<tr>\n",
       "      <td></td>        <th>coef</th>     <th>std err</th>      <th>z</th>      <th>P>|z|</th>  <th>[0.025</th>    <th>0.975]</th>  \n",
       "</tr>\n",
       "<tr>\n",
       "  <th>x1</th>       <td>   -0.0005</td> <td>    0.001</td> <td>   -0.451</td> <td> 0.652</td> <td>   -0.002</td> <td>    0.002</td>\n",
       "</tr>\n",
       "<tr>\n",
       "  <th>x2</th>       <td>    0.5804</td> <td>    0.164</td> <td>    3.546</td> <td> 0.000</td> <td>    0.260</td> <td>    0.901</td>\n",
       "</tr>\n",
       "<tr>\n",
       "  <th>x3</th>       <td>-3.205e-05</td> <td>    0.001</td> <td>   -0.026</td> <td> 0.979</td> <td>   -0.002</td> <td>    0.002</td>\n",
       "</tr>\n",
       "<tr>\n",
       "  <th>x4</th>       <td>   -0.0038</td> <td>    0.019</td> <td>   -0.204</td> <td> 0.838</td> <td>   -0.040</td> <td>    0.033</td>\n",
       "</tr>\n",
       "<tr>\n",
       "  <th>x5</th>       <td>   -0.0106</td> <td>    0.024</td> <td>   -0.450</td> <td> 0.653</td> <td>   -0.057</td> <td>    0.036</td>\n",
       "</tr>\n",
       "<tr>\n",
       "  <th>ar.L1</th>    <td>   -0.1288</td> <td>    1.779</td> <td>   -0.072</td> <td> 0.942</td> <td>   -3.616</td> <td>    3.358</td>\n",
       "</tr>\n",
       "<tr>\n",
       "  <th>ar.L2</th>    <td>    0.1970</td> <td>    1.365</td> <td>    0.144</td> <td> 0.885</td> <td>   -2.478</td> <td>    2.872</td>\n",
       "</tr>\n",
       "<tr>\n",
       "  <th>ar.L3</th>    <td>    0.2635</td> <td>    1.305</td> <td>    0.202</td> <td> 0.840</td> <td>   -2.294</td> <td>    2.821</td>\n",
       "</tr>\n",
       "<tr>\n",
       "  <th>ma.L1</th>    <td>    0.9460</td> <td>    1.792</td> <td>    0.528</td> <td> 0.598</td> <td>   -2.566</td> <td>    4.458</td>\n",
       "</tr>\n",
       "<tr>\n",
       "  <th>ma.L2</th>    <td>    0.4758</td> <td>    1.765</td> <td>    0.270</td> <td> 0.787</td> <td>   -2.983</td> <td>    3.934</td>\n",
       "</tr>\n",
       "<tr>\n",
       "  <th>ar.S.L4</th>  <td>   -0.1981</td> <td>    2.249</td> <td>   -0.088</td> <td> 0.930</td> <td>   -4.606</td> <td>    4.210</td>\n",
       "</tr>\n",
       "<tr>\n",
       "  <th>ar.S.L8</th>  <td>    0.1610</td> <td>    4.039</td> <td>    0.040</td> <td> 0.968</td> <td>   -7.755</td> <td>    8.077</td>\n",
       "</tr>\n",
       "<tr>\n",
       "  <th>ar.S.L12</th> <td>   -0.0659</td> <td>    2.682</td> <td>   -0.025</td> <td> 0.980</td> <td>   -5.322</td> <td>    5.190</td>\n",
       "</tr>\n",
       "<tr>\n",
       "  <th>ar.S.L16</th> <td>   -0.0685</td> <td>    2.207</td> <td>   -0.031</td> <td> 0.975</td> <td>   -4.394</td> <td>    4.258</td>\n",
       "</tr>\n",
       "<tr>\n",
       "  <th>ma.S.L4</th>  <td>    0.2723</td> <td>    2.177</td> <td>    0.125</td> <td> 0.900</td> <td>   -3.994</td> <td>    4.539</td>\n",
       "</tr>\n",
       "<tr>\n",
       "  <th>ma.S.L8</th>  <td>   -0.2037</td> <td>    4.145</td> <td>   -0.049</td> <td> 0.961</td> <td>   -8.328</td> <td>    7.920</td>\n",
       "</tr>\n",
       "<tr>\n",
       "  <th>ma.S.L12</th> <td>    0.0156</td> <td>    2.780</td> <td>    0.006</td> <td> 0.996</td> <td>   -5.433</td> <td>    5.464</td>\n",
       "</tr>\n",
       "<tr>\n",
       "  <th>ma.S.L16</th> <td>    0.1511</td> <td>    2.228</td> <td>    0.068</td> <td> 0.946</td> <td>   -4.215</td> <td>    4.518</td>\n",
       "</tr>\n",
       "<tr>\n",
       "  <th>sigma2</th>   <td>    0.1819</td> <td>    0.028</td> <td>    6.431</td> <td> 0.000</td> <td>    0.126</td> <td>    0.237</td>\n",
       "</tr>\n",
       "</table>\n",
       "<table class=\"simpletable\">\n",
       "<tr>\n",
       "  <th>Ljung-Box (L1) (Q):</th>     <td>0.03</td>  <th>  Jarque-Bera (JB):  </th> <td>93.46</td>\n",
       "</tr>\n",
       "<tr>\n",
       "  <th>Prob(Q):</th>                <td>0.87</td>  <th>  Prob(JB):          </th> <td>0.00</td> \n",
       "</tr>\n",
       "<tr>\n",
       "  <th>Heteroskedasticity (H):</th> <td>18.56</td> <th>  Skew:              </th> <td>-0.03</td>\n",
       "</tr>\n",
       "<tr>\n",
       "  <th>Prob(H) (two-sided):</th>    <td>0.00</td>  <th>  Kurtosis:          </th> <td>7.38</td> \n",
       "</tr>\n",
       "</table><br/><br/>Warnings:<br/>[1] Covariance matrix calculated using the outer product of gradients (complex-step)."
      ],
      "text/plain": [
       "<class 'statsmodels.iolib.summary.Summary'>\n",
       "\"\"\"\n",
       "                                          SARIMAX Results                                           \n",
       "====================================================================================================\n",
       "Dep. Variable:                                            y   No. Observations:                  118\n",
       "Model:             SARIMAX(3, 1, 2)x(4, 0, [1, 2, 3, 4], 4)   Log Likelihood                 -58.605\n",
       "Date:                                      Tue, 11 Oct 2022   AIC                            155.211\n",
       "Time:                                              11:31:21   BIC                            207.692\n",
       "Sample:                                          01-01-1960   HQIC                           176.517\n",
       "                                               - 04-01-1989                                         \n",
       "Covariance Type:                                        opg                                         \n",
       "==============================================================================\n",
       "                 coef    std err          z      P>|z|      [0.025      0.975]\n",
       "------------------------------------------------------------------------------\n",
       "x1            -0.0005      0.001     -0.451      0.652      -0.002       0.002\n",
       "x2             0.5804      0.164      3.546      0.000       0.260       0.901\n",
       "x3         -3.205e-05      0.001     -0.026      0.979      -0.002       0.002\n",
       "x4            -0.0038      0.019     -0.204      0.838      -0.040       0.033\n",
       "x5            -0.0106      0.024     -0.450      0.653      -0.057       0.036\n",
       "ar.L1         -0.1288      1.779     -0.072      0.942      -3.616       3.358\n",
       "ar.L2          0.1970      1.365      0.144      0.885      -2.478       2.872\n",
       "ar.L3          0.2635      1.305      0.202      0.840      -2.294       2.821\n",
       "ma.L1          0.9460      1.792      0.528      0.598      -2.566       4.458\n",
       "ma.L2          0.4758      1.765      0.270      0.787      -2.983       3.934\n",
       "ar.S.L4       -0.1981      2.249     -0.088      0.930      -4.606       4.210\n",
       "ar.S.L8        0.1610      4.039      0.040      0.968      -7.755       8.077\n",
       "ar.S.L12      -0.0659      2.682     -0.025      0.980      -5.322       5.190\n",
       "ar.S.L16      -0.0685      2.207     -0.031      0.975      -4.394       4.258\n",
       "ma.S.L4        0.2723      2.177      0.125      0.900      -3.994       4.539\n",
       "ma.S.L8       -0.2037      4.145     -0.049      0.961      -8.328       7.920\n",
       "ma.S.L12       0.0156      2.780      0.006      0.996      -5.433       5.464\n",
       "ma.S.L16       0.1511      2.228      0.068      0.946      -4.215       4.518\n",
       "sigma2         0.1819      0.028      6.431      0.000       0.126       0.237\n",
       "===================================================================================\n",
       "Ljung-Box (L1) (Q):                   0.03   Jarque-Bera (JB):                93.46\n",
       "Prob(Q):                              0.87   Prob(JB):                         0.00\n",
       "Heteroskedasticity (H):              18.56   Skew:                            -0.03\n",
       "Prob(H) (two-sided):                  0.00   Kurtosis:                         7.38\n",
       "===================================================================================\n",
       "\n",
       "Warnings:\n",
       "[1] Covariance matrix calculated using the outer product of gradients (complex-step).\n",
       "\"\"\""
      ]
     },
     "execution_count": 64,
     "metadata": {},
     "output_type": "execute_result"
    }
   ],
   "source": [
    "sm2.summary()"
   ]
  },
  {
   "cell_type": "code",
   "execution_count": 65,
   "id": "000be535",
   "metadata": {},
   "outputs": [
    {
     "data": {
      "text/plain": [
       "1989-07-01     89.196340\n",
       "1989-10-01     90.010873\n",
       "1990-01-01     91.258460\n",
       "1990-04-01     92.038705\n",
       "1990-07-01     92.965060\n",
       "1990-10-01     93.723617\n",
       "1991-01-01     94.194391\n",
       "1991-04-01     94.285046\n",
       "1991-07-01     94.601876\n",
       "1991-10-01     94.753294\n",
       "1992-01-01     95.013296\n",
       "1992-04-01     95.287604\n",
       "1992-07-01     95.527277\n",
       "1992-10-01     95.489006\n",
       "1993-01-01     95.974296\n",
       "1993-04-01     96.124584\n",
       "1993-07-01     96.116950\n",
       "1993-10-01     96.111460\n",
       "1994-01-01     96.594590\n",
       "1994-04-01     96.936037\n",
       "1994-07-01     97.398313\n",
       "1994-10-01     97.504500\n",
       "1995-01-01     98.154219\n",
       "1995-04-01     98.632793\n",
       "1995-07-01     98.790314\n",
       "1995-10-01     98.925384\n",
       "1996-01-01     99.549932\n",
       "1996-04-01     99.990135\n",
       "1996-07-01    100.323647\n",
       "1996-10-01    100.696979\n",
       "1997-01-01    101.229837\n",
       "1997-04-01    101.516517\n",
       "1997-07-01    101.662764\n",
       "1997-10-01    101.738409\n",
       "1998-01-01    101.957279\n",
       "1998-04-01    102.277568\n",
       "1998-07-01    102.578366\n",
       "1998-10-01    102.480258\n",
       "1999-01-01    102.842467\n",
       "1999-04-01    103.465452\n",
       "1999-07-01    103.976075\n",
       "1999-10-01    104.041889\n",
       "2000-01-01    104.861965\n",
       "2000-04-01    105.565903\n",
       "2000-07-01    106.157824\n",
       "2000-10-01    106.452883\n",
       "2001-01-01    107.107337\n",
       "2001-04-01    107.637402\n",
       "2001-07-01    107.287182\n",
       "2001-10-01    106.846075\n",
       "2002-01-01    107.145509\n",
       "Freq: QS-OCT, Name: predicted_mean, dtype: float64"
      ]
     },
     "execution_count": 65,
     "metadata": {},
     "output_type": "execute_result"
    }
   ],
   "source": [
    "#forecasts\n",
    "forecast3 = sm2.forecast(len(test_df), exog=exog_test.values)\n",
    "forecast3"
   ]
  },
  {
   "cell_type": "code",
   "execution_count": 66,
   "id": "ba59c614",
   "metadata": {},
   "outputs": [
    {
     "name": "stdout",
     "output_type": "stream",
     "text": [
      "RMSE: 2.530709815189037\n"
     ]
    },
    {
     "data": {
      "image/png": "[encoded data removed]",
      "text/plain": [
       "<Figure size 720x360 with 1 Axes>"
      ]
     },
     "metadata": {
      "needs_background": "light"
     },
     "output_type": "display_data"
    }
   ],
   "source": [
    "#forecasts vs actual\n",
    "plt.figure(figsize=(10,5))\n",
    "plt.plot(forecast3, 'r', label = 'Predictions')\n",
    "plt.plot(test, 'b', label='Actual')\n",
    "plt.xlabel('Day')\n",
    "plt.ylabel('Appliance')\n",
    "plt.legend()\n",
    "\n",
    "mse1 = mean_squared_error(test,forecast3)\n",
    "print('RMSE: ' + str(np.sqrt(mse1) ))"
   ]
  },
  {
   "cell_type": "markdown",
   "id": "75825aea",
   "metadata": {},
   "source": [
    "### ARIMAX"
   ]
  },
  {
   "cell_type": "code",
   "execution_count": 67,
   "id": "198e920a",
   "metadata": {},
   "outputs": [],
   "source": [
    "p=4; q=2\n",
    "m2 = ARIMA(train, order=(p,1,q), exog = exog_train.values).fit()"
   ]
  },
  {
   "cell_type": "code",
   "execution_count": 68,
   "id": "77dcbf49",
   "metadata": {},
   "outputs": [
    {
     "data": {
      "text/html": [
       "<table class=\"simpletable\">\n",
       "<caption>SARIMAX Results</caption>\n",
       "<tr>\n",
       "  <th>Dep. Variable:</th>           <td>y</td>        <th>  No. Observations:  </th>   <td>118</td>  \n",
       "</tr>\n",
       "<tr>\n",
       "  <th>Model:</th>            <td>ARIMA(4, 1, 2)</td>  <th>  Log Likelihood     </th> <td>-64.277</td>\n",
       "</tr>\n",
       "<tr>\n",
       "  <th>Date:</th>            <td>Tue, 11 Oct 2022</td> <th>  AIC                </th> <td>152.553</td>\n",
       "</tr>\n",
       "<tr>\n",
       "  <th>Time:</th>                <td>11:31:22</td>     <th>  BIC                </th> <td>185.699</td>\n",
       "</tr>\n",
       "<tr>\n",
       "  <th>Sample:</th>             <td>01-01-1960</td>    <th>  HQIC               </th> <td>166.010</td>\n",
       "</tr>\n",
       "<tr>\n",
       "  <th></th>                   <td>- 04-01-1989</td>   <th>                     </th>    <td> </td>   \n",
       "</tr>\n",
       "<tr>\n",
       "  <th>Covariance Type:</th>        <td>opg</td>       <th>                     </th>    <td> </td>   \n",
       "</tr>\n",
       "</table>\n",
       "<table class=\"simpletable\">\n",
       "<tr>\n",
       "     <td></td>       <th>coef</th>     <th>std err</th>      <th>z</th>      <th>P>|z|</th>  <th>[0.025</th>    <th>0.975]</th>  \n",
       "</tr>\n",
       "<tr>\n",
       "  <th>x1</th>     <td>-2.724e-05</td> <td>    0.001</td> <td>   -0.022</td> <td> 0.983</td> <td>   -0.002</td> <td>    0.002</td>\n",
       "</tr>\n",
       "<tr>\n",
       "  <th>x2</th>     <td>    0.7207</td> <td>    0.151</td> <td>    4.788</td> <td> 0.000</td> <td>    0.426</td> <td>    1.016</td>\n",
       "</tr>\n",
       "<tr>\n",
       "  <th>x3</th>     <td>   -0.0003</td> <td>    0.001</td> <td>   -0.273</td> <td> 0.785</td> <td>   -0.002</td> <td>    0.002</td>\n",
       "</tr>\n",
       "<tr>\n",
       "  <th>x4</th>     <td>   -0.0037</td> <td>    0.013</td> <td>   -0.277</td> <td> 0.782</td> <td>   -0.030</td> <td>    0.022</td>\n",
       "</tr>\n",
       "<tr>\n",
       "  <th>x5</th>     <td>   -0.0136</td> <td>    0.015</td> <td>   -0.930</td> <td> 0.352</td> <td>   -0.042</td> <td>    0.015</td>\n",
       "</tr>\n",
       "<tr>\n",
       "  <th>ar.L1</th>  <td>   -0.0626</td> <td>    0.532</td> <td>   -0.118</td> <td> 0.906</td> <td>   -1.106</td> <td>    0.981</td>\n",
       "</tr>\n",
       "<tr>\n",
       "  <th>ar.L2</th>  <td>   -0.0560</td> <td>    0.504</td> <td>   -0.111</td> <td> 0.912</td> <td>   -1.044</td> <td>    0.932</td>\n",
       "</tr>\n",
       "<tr>\n",
       "  <th>ar.L3</th>  <td>    0.2628</td> <td>    0.379</td> <td>    0.694</td> <td> 0.488</td> <td>   -0.479</td> <td>    1.005</td>\n",
       "</tr>\n",
       "<tr>\n",
       "  <th>ar.L4</th>  <td>    0.1526</td> <td>    0.177</td> <td>    0.862</td> <td> 0.389</td> <td>   -0.194</td> <td>    0.500</td>\n",
       "</tr>\n",
       "<tr>\n",
       "  <th>ma.L1</th>  <td>    0.8174</td> <td>    0.536</td> <td>    1.526</td> <td> 0.127</td> <td>   -0.233</td> <td>    1.867</td>\n",
       "</tr>\n",
       "<tr>\n",
       "  <th>ma.L2</th>  <td>    0.4229</td> <td>    0.491</td> <td>    0.861</td> <td> 0.389</td> <td>   -0.540</td> <td>    1.386</td>\n",
       "</tr>\n",
       "<tr>\n",
       "  <th>sigma2</th> <td>    0.1830</td> <td>    0.024</td> <td>    7.648</td> <td> 0.000</td> <td>    0.136</td> <td>    0.230</td>\n",
       "</tr>\n",
       "</table>\n",
       "<table class=\"simpletable\">\n",
       "<tr>\n",
       "  <th>Ljung-Box (L1) (Q):</th>     <td>0.12</td>  <th>  Jarque-Bera (JB):  </th> <td>119.72</td>\n",
       "</tr>\n",
       "<tr>\n",
       "  <th>Prob(Q):</th>                <td>0.72</td>  <th>  Prob(JB):          </th>  <td>0.00</td> \n",
       "</tr>\n",
       "<tr>\n",
       "  <th>Heteroskedasticity (H):</th> <td>19.72</td> <th>  Skew:              </th>  <td>-0.29</td>\n",
       "</tr>\n",
       "<tr>\n",
       "  <th>Prob(H) (two-sided):</th>    <td>0.00</td>  <th>  Kurtosis:          </th>  <td>7.92</td> \n",
       "</tr>\n",
       "</table><br/><br/>Warnings:<br/>[1] Covariance matrix calculated using the outer product of gradients (complex-step)."
      ],
      "text/plain": [
       "<class 'statsmodels.iolib.summary.Summary'>\n",
       "\"\"\"\n",
       "                               SARIMAX Results                                \n",
       "==============================================================================\n",
       "Dep. Variable:                      y   No. Observations:                  118\n",
       "Model:                 ARIMA(4, 1, 2)   Log Likelihood                 -64.277\n",
       "Date:                Tue, 11 Oct 2022   AIC                            152.553\n",
       "Time:                        11:31:22   BIC                            185.699\n",
       "Sample:                    01-01-1960   HQIC                           166.010\n",
       "                         - 04-01-1989                                         \n",
       "Covariance Type:                  opg                                         \n",
       "==============================================================================\n",
       "                 coef    std err          z      P>|z|      [0.025      0.975]\n",
       "------------------------------------------------------------------------------\n",
       "x1         -2.724e-05      0.001     -0.022      0.983      -0.002       0.002\n",
       "x2             0.7207      0.151      4.788      0.000       0.426       1.016\n",
       "x3            -0.0003      0.001     -0.273      0.785      -0.002       0.002\n",
       "x4            -0.0037      0.013     -0.277      0.782      -0.030       0.022\n",
       "x5            -0.0136      0.015     -0.930      0.352      -0.042       0.015\n",
       "ar.L1         -0.0626      0.532     -0.118      0.906      -1.106       0.981\n",
       "ar.L2         -0.0560      0.504     -0.111      0.912      -1.044       0.932\n",
       "ar.L3          0.2628      0.379      0.694      0.488      -0.479       1.005\n",
       "ar.L4          0.1526      0.177      0.862      0.389      -0.194       0.500\n",
       "ma.L1          0.8174      0.536      1.526      0.127      -0.233       1.867\n",
       "ma.L2          0.4229      0.491      0.861      0.389      -0.540       1.386\n",
       "sigma2         0.1830      0.024      7.648      0.000       0.136       0.230\n",
       "===================================================================================\n",
       "Ljung-Box (L1) (Q):                   0.12   Jarque-Bera (JB):               119.72\n",
       "Prob(Q):                              0.72   Prob(JB):                         0.00\n",
       "Heteroskedasticity (H):              19.72   Skew:                            -0.29\n",
       "Prob(H) (two-sided):                  0.00   Kurtosis:                         7.92\n",
       "===================================================================================\n",
       "\n",
       "Warnings:\n",
       "[1] Covariance matrix calculated using the outer product of gradients (complex-step).\n",
       "\"\"\""
      ]
     },
     "execution_count": 68,
     "metadata": {},
     "output_type": "execute_result"
    }
   ],
   "source": [
    "m2.summary()"
   ]
  },
  {
   "cell_type": "code",
   "execution_count": 69,
   "id": "6639d00f",
   "metadata": {},
   "outputs": [
    {
     "data": {
      "text/plain": [
       "1989-07-01     89.173706\n",
       "1989-10-01     90.001501\n",
       "1990-01-01     91.357037\n",
       "1990-04-01     92.191664\n",
       "1990-07-01     93.373354\n",
       "1990-10-01     94.365705\n",
       "1991-01-01     95.123932\n",
       "1991-04-01     95.434523\n",
       "1991-07-01     95.888155\n",
       "1991-10-01     96.099430\n",
       "1992-01-01     96.377956\n",
       "1992-04-01     96.652319\n",
       "1992-07-01     96.949680\n",
       "1992-10-01     96.895051\n",
       "1993-01-01     97.529563\n",
       "1993-04-01     97.718607\n",
       "1993-07-01     97.675694\n",
       "1993-10-01     97.661568\n",
       "1994-01-01     98.180394\n",
       "1994-04-01     98.566749\n",
       "1994-07-01     99.132728\n",
       "1994-10-01     99.280027\n",
       "1995-01-01    100.088972\n",
       "1995-04-01    100.718348\n",
       "1995-07-01    100.920210\n",
       "1995-10-01    101.102166\n",
       "1996-01-01    101.880421\n",
       "1996-04-01    102.424897\n",
       "1996-07-01    102.847889\n",
       "1996-10-01    103.356485\n",
       "1997-01-01    104.037913\n",
       "1997-04-01    104.396069\n",
       "1997-07-01    104.634784\n",
       "1997-10-01    104.824290\n",
       "1998-01-01    105.149305\n",
       "1998-04-01    105.584416\n",
       "1998-07-01    106.011369\n",
       "1998-10-01    106.006313\n",
       "1999-01-01    106.490081\n",
       "1999-04-01    107.289427\n",
       "1999-07-01    107.925274\n",
       "1999-10-01    108.155137\n",
       "2000-01-01    109.243212\n",
       "2000-04-01    110.119017\n",
       "2000-07-01    110.920456\n",
       "2000-10-01    111.396451\n",
       "2001-01-01    112.339731\n",
       "2001-04-01    113.123514\n",
       "2001-07-01    112.815080\n",
       "2001-10-01    112.438033\n",
       "2002-01-01    112.833429\n",
       "Freq: QS-OCT, Name: predicted_mean, dtype: float64"
      ]
     },
     "execution_count": 69,
     "metadata": {},
     "output_type": "execute_result"
    }
   ],
   "source": [
    "#forecasts\n",
    "forecast4 = m2.forecast(len(test_df), exog=exog_test.values)\n",
    "forecast4"
   ]
  },
  {
   "cell_type": "code",
   "execution_count": 70,
   "id": "cd7e1638",
   "metadata": {},
   "outputs": [
    {
     "name": "stdout",
     "output_type": "stream",
     "text": [
      "RMSE: 4.05603285940385\n"
     ]
    },
    {
     "data": {
      "image/png": "[encoded data removed]",
      "text/plain": [
       "<Figure size 720x360 with 1 Axes>"
      ]
     },
     "metadata": {
      "needs_background": "light"
     },
     "output_type": "display_data"
    }
   ],
   "source": [
    "#forecasts vs actual\n",
    "plt.figure(figsize=(10,5))\n",
    "plt.plot(forecast4, 'r', label = 'Predictions')\n",
    "plt.plot(test, 'b', label='Actual')\n",
    "plt.xlabel('Day')\n",
    "plt.ylabel('Appliance')\n",
    "plt.legend()\n",
    "\n",
    "mse1 = mean_squared_error(test,forecast4)\n",
    "print('RMSE: ' + str(np.sqrt(mse1) ))"
   ]
  },
  {
   "cell_type": "markdown",
   "id": "c610364f",
   "metadata": {},
   "source": [
    "#### COMPARISSION"
   ]
  },
  {
   "cell_type": "code",
   "execution_count": 71,
   "id": "b3176c79",
   "metadata": {},
   "outputs": [
    {
     "name": "stdout",
     "output_type": "stream",
     "text": [
      "RMSE ARMA: 9.441664502960908\n",
      "AIC ARMA:118.7225911416195 ;  BIC ARMA:138.05780868520378\n",
      "\n",
      "\n",
      "RMSE SARIMA: 8.957260947967386\n",
      "AIC SARIMA:117.55975943436425 ;  BIC SARIMA:161.75454239112835\n",
      "\n",
      "\n",
      "RMSE SARIMAX: 2.530709815189037\n",
      "AIC SARIMAX:155.21069937085014  ;  BIC SARIMAX:207.69200413200753\n",
      "\n",
      "\n",
      "RMSE ARIMAX: 4.05603285940385\n",
      "AIC ARIMAX:152.5531207263244  ;  BIC ARIMAX:185.69920794389748\n"
     ]
    },
    {
     "data": {
      "image/png": "[encoded data removed]",
      "text/plain": [
       "<Figure size 1296x648 with 1 Axes>"
      ]
     },
     "metadata": {
      "needs_background": "light"
     },
     "output_type": "display_data"
    }
   ],
   "source": [
    "plt.figure(figsize=(18,9))\n",
    "plt.plot(forecast1, 'g', label = 'ARIMA')\n",
    "plt.plot(forecast4, 'm', label = 'ARIMAX')\n",
    "plt.plot(forecast2, 'y', label = 'SARIMA')\n",
    "plt.plot(forecast3, 'r', label = 'SARIMAX')\n",
    "plt.plot(test, 'b', label='Actual')\n",
    "plt.xlabel('Day')\n",
    "plt.ylabel('Appliance')\n",
    "plt.legend()\n",
    "\n",
    "mse1 = mean_squared_error(test,forecast1)\n",
    "print('RMSE ARMA: ' + str(np.sqrt(mse1) ))\n",
    "aic1,bic1=m1.aic,m1.bic\n",
    "print('AIC ARMA:{} ;  BIC ARMA:{}'.format(aic1,bic1))\n",
    "print('\\n')\n",
    "mse2 = mean_squared_error(test,forecast2)\n",
    "print('RMSE SARIMA: ' + str(np.sqrt(mse2) ))\n",
    "aic2,bic2=sm1.aic,sm1.bic\n",
    "print('AIC SARIMA:{} ;  BIC SARIMA:{}'.format(aic2,bic2))\n",
    "print('\\n')\n",
    "mse3 = mean_squared_error(test,forecast3)\n",
    "print('RMSE SARIMAX: ' + str(np.sqrt(mse3) ))\n",
    "aic3,bic3=sm2.aic,sm2.bic\n",
    "print('AIC SARIMAX:{}  ;  BIC SARIMAX:{}'.format(aic3,bic3))\n",
    "print('\\n')\n",
    "mse4 = mean_squared_error(test,forecast4)\n",
    "print('RMSE ARIMAX: ' + str(np.sqrt(mse4) ))\n",
    "aic4,bic4=m2.aic,m2.bic\n",
    "print('AIC ARIMAX:{}  ;  BIC ARIMAX:{}'.format(aic4,bic4))"
   ]
  },
  {
   "cell_type": "code",
   "execution_count": null,
   "id": "573074ea",
   "metadata": {},
   "outputs": [],
   "source": []
  }
 ],
 "metadata": {
  "kernelspec": {
   "display_name": "Python 3 (ipykernel)",
   "language": "python",
   "name": "python3"
  },
  "language_info": {
   "codemirror_mode": {
    "name": "ipython",
    "version": 3
   },
   "file_extension": ".py",
   "mimetype": "text/x-python",
   "name": "python",
   "nbconvert_exporter": "python",
   "pygments_lexer": "ipython3",
   "version": "3.9.12"
  }
 },
 "nbformat": 4,
 "nbformat_minor": 5
}
